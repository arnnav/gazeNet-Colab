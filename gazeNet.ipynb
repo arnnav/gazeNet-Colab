{
 "cells": [
  {
   "cell_type": "code",
   "execution_count": null,
   "metadata": {
    "colab": {},
    "colab_type": "code",
    "id": "69HKt8_3yiAg"
   },
   "outputs": [],
   "source": [
    "import tensorflow as tf\n",
    "import pickle\n",
    "import torch\n",
    "from tqdm import tqdm\n",
    "import time\n",
    "from torch.autograd import Variable\n",
    "from torch.utils.data import Dataset\n",
    "from torch.utils.data import DataLoader\n",
    "import json\n",
    "from collections import OrderedDict\n",
    "import numpy as np\n",
    "import pandas as pd\n",
    "import itertools\n",
    "import Levenshtein as Lev\n",
    "from sklearn import metrics\n",
    "import torch.nn as nn\n",
    "import os\n",
    "from distutils.dir_util import mkpath\n",
    "import os, sys, glob\n",
    "from distutils.dir_util import mkpath\n",
    "from tqdm import tqdm\n",
    "import matplotlib.pyplot as plt\n",
    "plt.ion()\n",
    "import copy, argparse, fnmatch\n",
    "import torch\n",
    "from google.colab import drive"
   ]
  },
  {
   "cell_type": "code",
   "execution_count": null,
   "metadata": {
    "colab": {
     "base_uri": "https://localhost:8080/",
     "height": 118
    },
    "colab_type": "code",
    "id": "soLkrirRyvFy",
    "outputId": "74ff1a21-7063-43c1-8100-a5cd22a4076b"
   },
   "outputs": [
    {
     "name": "stdout",
     "output_type": "stream",
     "text": [
      "Go to this URL in a browser: https://accounts.google.com/o/oauth2/auth?client_id=947318989803-6bn6qk8qdgf4n4g3pfee6491hc0brc4i.apps.googleusercontent.com&redirect_uri=urn%3aietf%3awg%3aoauth%3a2.0%3aoob&response_type=code&scope=email%20https%3a%2f%2fwww.googleapis.com%2fauth%2fdocs.test%20https%3a%2f%2fwww.googleapis.com%2fauth%2fdrive%20https%3a%2f%2fwww.googleapis.com%2fauth%2fdrive.photos.readonly%20https%3a%2f%2fwww.googleapis.com%2fauth%2fpeopleapi.readonly\n",
      "\n",
      "Enter your authorization code:\n",
      "··········\n",
      "Mounted at /content/drive\n"
     ]
    }
   ],
   "source": [
    "drive.mount('/content/drive')"
   ]
  },
  {
   "cell_type": "code",
   "execution_count": null,
   "metadata": {
    "colab": {
     "base_uri": "https://localhost:8080/",
     "height": 33
    },
    "colab_type": "code",
    "id": "UNi7vwazHlU-",
    "outputId": "7bf6f10c-373b-41e4-9ae5-eaa037bdee1e"
   },
   "outputs": [
    {
     "name": "stdout",
     "output_type": "stream",
     "text": [
      "/content/drive/My Drive/Advance Project - 523 4/Code/Eye Tracking Tool/gazeNet-Colab\n"
     ]
    }
   ],
   "source": [
    "cd '/content/drive/My Drive/Advance Project - 523 4/Code/Eye Tracking Tool/gazeNet-Colab/'"
   ]
  },
  {
   "cell_type": "code",
   "execution_count": null,
   "metadata": {
    "colab": {
     "base_uri": "https://localhost:8080/",
     "height": 196
    },
    "colab_type": "code",
    "id": "J8EyJmG5xE7-",
    "outputId": "f13dc706-2c9b-40c3-c964-10d097f36864"
   },
   "outputs": [
    {
     "name": "stdout",
     "output_type": "stream",
     "text": [
      "Collecting python-levenshtein\n",
      "\u001b[?25l  Downloading https://files.pythonhosted.org/packages/42/a9/d1785c85ebf9b7dfacd08938dd028209c34a0ea3b1bcdb895208bd40a67d/python-Levenshtein-0.12.0.tar.gz (48kB)\n",
      "\r",
      "\u001b[K     |██████▊                         | 10kB 17.7MB/s eta 0:00:01\r",
      "\u001b[K     |█████████████▌                  | 20kB 4.5MB/s eta 0:00:01\r",
      "\u001b[K     |████████████████████▏           | 30kB 5.6MB/s eta 0:00:01\r",
      "\u001b[K     |███████████████████████████     | 40kB 6.3MB/s eta 0:00:01\r",
      "\u001b[K     |████████████████████████████████| 51kB 3.2MB/s \n",
      "\u001b[?25hRequirement already satisfied: setuptools in /usr/local/lib/python3.6/dist-packages (from python-levenshtein) (47.3.1)\n",
      "Building wheels for collected packages: python-levenshtein\n",
      "  Building wheel for python-levenshtein (setup.py) ... \u001b[?25l\u001b[?25hdone\n",
      "  Created wheel for python-levenshtein: filename=python_Levenshtein-0.12.0-cp36-cp36m-linux_x86_64.whl size=144789 sha256=90ac0a5bcb5a07d06c0a922028da198fe35d47d5c5e28c43ab4356f11dfea111\n",
      "  Stored in directory: /root/.cache/pip/wheels/de/c2/93/660fd5f7559049268ad2dc6d81c4e39e9e36518766eaf7e342\n",
      "Successfully built python-levenshtein\n",
      "Installing collected packages: python-levenshtein\n",
      "Successfully installed python-levenshtein-0.12.0\n"
     ]
    }
   ],
   "source": [
    "!pip install python-levenshtein"
   ]
  },
  {
   "cell_type": "code",
   "execution_count": null,
   "metadata": {
    "colab": {},
    "colab_type": "code",
    "id": "u0nf49rUX_rt"
   },
   "outputs": [],
   "source": [
    "def round_up_to_odd(f, min_val = 3):\n",
    "    w = np.int32(np.ceil(f) // 2 * 2 + 1)\n",
    "    w = min_val if w < min_val else w\n",
    "    return w\n",
    "\n",
    "\n",
    "def rolling_window(a, window):\n",
    "    shape = a.shape[:-1] + (a.shape[-1] - window + 1, window)\n",
    "    strides = a.strides + (a.strides[-1],)\n",
    "    return np.lib.stride_tricks.as_strided(a, shape=shape, strides=strides)\n",
    "\n",
    "def BoxMuller_gaussian(u1,u2):\n",
    "  z1 = np.sqrt(-2*np.log(u1))*np.cos(2*np.pi*u2)\n",
    "  z2 = np.sqrt(-2*np.log(u1))*np.sin(2*np.pi*u2)\n",
    "  return z1,z2\n",
    "\n",
    "def convertToOneHot(vector, num_classes=None):\n",
    "    assert isinstance(vector, np.ndarray)\n",
    "    assert len(vector) > 0\n",
    "\n",
    "    if num_classes is None:\n",
    "        num_classes = np.max(vector)+1\n",
    "    else:\n",
    "        assert num_classes > 0\n",
    "        assert num_classes >= np.max(vector)\n",
    "\n",
    "    result = np.zeros(shape=(len(vector), num_classes))\n",
    "    result[np.arange(len(vector)), vector] = 1\n",
    "    return result.astype(int)\n",
    "\n",
    "class Config(object):\n",
    "    def __init__(self, param_file):\n",
    "        self.param_file = param_file\n",
    "        self.read_params()\n",
    "\n",
    "    class bcolors(object):\n",
    "        HEADER = '\\033[95m'\n",
    "        OKBLUE = '\\033[94m'\n",
    "        OKGREEN = '\\033[92m'\n",
    "        WARNING = '\\033[93m'\n",
    "        FAIL = '\\033[91m'\n",
    "        ENDC = '\\033[0m'\n",
    "        BOLD = '\\033[1m'\n",
    "        UNDERLINE = '\\033[4m'\n",
    "\n",
    "    def read_params(self, current_params = None):\n",
    "        with open(self.param_file, 'r') as f:\n",
    "            self.params = json.load(f, object_pairs_hook=OrderedDict)\n",
    "        if not(current_params is None) and not (current_params == self.params):\n",
    "            print (\"TRAINING PARAMETERS CHANGED\")\n",
    "            for k, p in current_params.iteritems():\n",
    "                if not(p == self.params[k]):\n",
    "                    print (self.bcolors.WARNING + \\\n",
    "                          \"%s: %s --> %s\" % (k, p, self.params[k]) + \\\n",
    "                          self.bcolors.ENDC)\n",
    "            return True\n",
    "    def save_params(self, params=None):\n",
    "        if not(params):\n",
    "            params = self.params\n",
    "        else:\n",
    "            self.params = params\n",
    "\n",
    "        with open(self.param_file, 'w') as f:\n",
    "            json.dump(params, f, indent=4)\n",
    "\n",
    "def human_format(num, suffixes=['', 'K', 'M', 'G', 'T', 'P']):\n",
    "    m = sum([abs(num/1000.0**x) >= 1 for x in range(1, len(suffixes))])\n",
    "    val = num/1000.**m\n",
    "    return '%.3f%s' % (val, suffixes[m])"
   ]
  },
  {
   "cell_type": "code",
   "execution_count": null,
   "metadata": {
    "colab": {},
    "colab_type": "code",
    "id": "ciwgdlJrBT5E"
   },
   "outputs": [],
   "source": [
    "class EventParser(object):\n",
    "    def __init__(self, config):\n",
    "        super(EventParser, self).__init__()\n",
    "        self.config = config\n",
    "\n",
    "\n",
    "    def parse_data(self, sample):\n",
    "        config = self.config\n",
    "        augment = config['augment']\n",
    "        rms_noise_levels = np.arange(*config[\"augment_noise\"])\n",
    "\n",
    "        inpt_dir = ['x', 'y']\n",
    "\n",
    "        gaze_x = np.copy(sample[inpt_dir[0]])\n",
    "        gaze_y = np.copy(sample[inpt_dir[1]])\n",
    "\n",
    "        if augment:\n",
    "            u1, u2 = np.random.uniform(0,1, (2, len(sample)))\n",
    "            noise_x, noise_y = BoxMuller_gaussian(u1,u2)\n",
    "            rms_noise_level = np.random.choice(rms_noise_levels)\n",
    "            noise_x*=rms_noise_level/2\n",
    "            noise_y*=rms_noise_level/2\n",
    "            #rms = np.sqrt(np.mean(np.hypot(np.diff(noise_x), np.diff(noise_y))**2))\n",
    "            gaze_x+=noise_x\n",
    "            gaze_y+=noise_y\n",
    "\n",
    "        inpt_x, inpt_y = [np.diff(gaze_x),\n",
    "                          np.diff(gaze_y)]\n",
    "\n",
    "        X = [(_coords) for _coords in zip(inpt_x, inpt_y)]\n",
    "        X = np.array(X, dtype=np.float32)\n",
    "\n",
    "        return X"
   ]
  },
  {
   "cell_type": "code",
   "execution_count": null,
   "metadata": {
    "colab": {},
    "colab_type": "code",
    "id": "LFn-3WwF6pQz"
   },
   "outputs": [],
   "source": [
    "class EMDataset(Dataset, EventParser):\n",
    "    def __init__(self, config, gaze_data):\n",
    "\n",
    "        split_seqs = config['split_seqs']\n",
    "        #mode = config['mode']\n",
    "\n",
    "        #input is in fact diff(input), therefore we want +1 sample\n",
    "        seq_len = config['seq_len']+1\n",
    "        #seq_step = seq_len/2 if mode == 'train' else seq_len\n",
    "        seq_step = seq_len\n",
    "\n",
    "        data = []\n",
    "        #seqid = -1\n",
    "        for d in gaze_data: #iterates over files\n",
    "            dd = np.split(d, np.where(np.diff(d['status'].astype(np.int0)) != 0)[0]+1)\n",
    "            dd = [_d for _d in dd if (_d['status'].all() and not(len(_d) < seq_len))]\n",
    "\n",
    "            for seq in dd: #iterates over chunks of valid data\n",
    "                #seqid +=1\n",
    "                if split_seqs and not(len(seq) < seq_len):\n",
    "                    seqs = [seq[pos:pos + seq_len] if (pos + seq_len) < len(seq) else\n",
    "                            seq[len(seq)-seq_len:len(seq)] for pos in range(0, len(seq), seq_step)]\n",
    "                else:\n",
    "                    seqs = [seq]\n",
    "\n",
    "                data.extend(seqs)\n",
    "\n",
    "        self.data = data\n",
    "        self.size = len(data)\n",
    "        self.config = config\n",
    "\n",
    "        super(EMDataset, self).__init__(config)\n",
    "\n",
    "    def __getitem__(self, index):\n",
    "        sample = self.data[index]\n",
    "        gaze_data = self.parse_data(sample)\n",
    "        evt = self.parse_evt(sample['evt'])\n",
    "\n",
    "        return torch.FloatTensor(gaze_data.T), evt, ()\n",
    "\n",
    "    def parse_evt(self, evt):\n",
    "        return evt[1:]-1\n",
    "\n",
    "    def __len__(self):\n",
    "        return self.size"
   ]
  },
  {
   "cell_type": "code",
   "execution_count": null,
   "metadata": {
    "colab": {},
    "colab_type": "code",
    "id": "iWXzZ9KpH8q6"
   },
   "outputs": [],
   "source": [
    "def _collate_fn(batch):\n",
    "    def func(p):\n",
    "        return p[0].size(1)\n",
    "\n",
    "    #return batch\n",
    "    longest_sample = max(batch, key=func)[0]\n",
    "    freq_size = longest_sample.size(0)\n",
    "    minibatch_size = len(batch)\n",
    "    max_seqlength = longest_sample.size(1)\n",
    "    inputs = torch.zeros(minibatch_size, 1, freq_size, max_seqlength)\n",
    "    input_percentages = torch.FloatTensor(minibatch_size)\n",
    "    target_sizes = [] #torch.IntTensor(minibatch_size, 3)\n",
    "    targets = []\n",
    "\n",
    "    for x in range(minibatch_size):\n",
    "        sample = batch[x]\n",
    "\n",
    "        tensor, target, (_) = sample\n",
    "        seq_length = tensor.size(1)\n",
    "        inputs[x][0].narrow(1, 0, seq_length).copy_(tensor)\n",
    "        input_percentages[x] = seq_length / float(max_seqlength)\n",
    "        target_sizes.append(len(target))\n",
    "        targets.extend(target.tolist())\n",
    "    targets = torch.LongTensor(targets)\n",
    "    return inputs, targets, input_percentages, target_sizes, (_)"
   ]
  },
  {
   "cell_type": "code",
   "execution_count": null,
   "metadata": {
    "colab": {},
    "colab_type": "code",
    "id": "TdlmMejvH8Qj"
   },
   "outputs": [],
   "source": [
    "class GazeDataLoader(DataLoader):\n",
    "    def __init__(self, *args, **kwargs):\n",
    "\n",
    "        # seed = kwargs.pop('seed', 220617)\n",
    "        super(GazeDataLoader, self).__init__(*args, **kwargs)\n",
    "        np.random.seed(seed)\n",
    "        self.collate_fn = _collate_fn\n",
    "        #self.sampler = RandomSampler(*args)\n"
   ]
  },
  {
   "cell_type": "code",
   "execution_count": null,
   "metadata": {
    "colab": {},
    "colab_type": "code",
    "id": "_rvydv2qqtM5"
   },
   "outputs": [],
   "source": [
    "def aggr_events(events_raw):\n",
    "    events_aggr = []\n",
    "    s = 0\n",
    "    for bit, group in itertools.groupby(events_raw):\n",
    "        event_length = len(list(group))\n",
    "        e = s+event_length\n",
    "        events_aggr.append([s, e, bit])\n",
    "        s = e\n",
    "    return events_aggr"
   ]
  },
  {
   "cell_type": "code",
   "execution_count": null,
   "metadata": {
    "colab": {},
    "colab_type": "code",
    "id": "T6eb60FvpyVc"
   },
   "outputs": [],
   "source": [
    "class ETData():\n",
    "    #Data types and constants\n",
    "    dtype = np.dtype([\n",
    "        ('t', np.float64),\n",
    "        ('x', np.float32),\n",
    "        ('y', np.float32),\n",
    "        ('status', np.bool),\n",
    "        ('evt', np.uint8)\n",
    "    ])\n",
    "    evt_color_map = dict({\n",
    "        0: 'gray',  #0. Undefined\n",
    "        1: 'b',     #1. Fixation\n",
    "        2: 'r',     #2. Saccade\n",
    "        3: 'y',     #3. Post-saccadic oscillation\n",
    "        4: 'm',     #4. Smooth pursuit\n",
    "        5: 'k',     #5. Blink\n",
    "        9: 'k',     #9. Other\n",
    "    })\n",
    "\n",
    "    def __init__(self):\n",
    "        self.data = np.array([], dtype=ETData.dtype)\n",
    "        self.fs = None\n",
    "        self.evt = None\n",
    "\n",
    "    def load(self, fpath, **kwargs):\n",
    "        if not('source' in kwargs):\n",
    "            try:\n",
    "                self.data = np.load(fpath)\n",
    "            except:\n",
    "                print(\"ERROR loading %s\" % fpath)\n",
    "        else:\n",
    "            if kwargs['source']=='etdata':\n",
    "                self.data = np.load(fpath)\n",
    "\n",
    "            if kwargs['source']=='array':\n",
    "                if not fpath.dtype == ETData.dtype:\n",
    "                    print (\"Error. Data types do not match\")\n",
    "                    return False\n",
    "                self.data = fpath\n",
    "\n",
    "            if kwargs['source']=='np_array':\n",
    "                self.data = np.core.records.fromarrays(fpath.T,\n",
    "                                                       dtype=ETData.dtype)\n",
    "\n",
    "            if callable(kwargs['source']):\n",
    "                self.data = kwargs['source'](fpath, ETData.dtype)\n",
    "\n",
    "        #estimate sampling rate\n",
    "        self.fs = float(self.find_nearest_fs(self.data['t']))\n",
    "        self.evt = None\n",
    "        return self.data\n",
    "\n",
    "    def save(self, spath):  \n",
    "        np.save(spath, self.data)\n",
    "\n",
    "    def find_nearest_fs(self, t):\n",
    "        fs = np.array([2000, 1250, 1000, 600, 500,  #high end\n",
    "                       300, 250, 240, 200,          #middle end\n",
    "                       120, 75, 60, 50, 30, 25])    #low end\n",
    "        ##debug\n",
    "        #if (np.diff(t) == 0).any():\n",
    "        #    stop\n",
    "        t = np.median(1/np.diff(t))\n",
    "        print(\"ETDATA-----------------------------\",t)\n",
    "        return fs.flat[np.abs(fs - t).argmin()]\n",
    "\n",
    "    def calc_evt(self, fast=False):\n",
    "        '''Calculated event data\n",
    "        '''\n",
    "        evt_compact = aggr_events(self.data['evt'])\n",
    "        evt = pd.DataFrame(evt_compact,\n",
    "                           columns = ['s', 'e', 'evt'])\n",
    "        evt['dur_s'] = np.diff(evt[['s', 'e']], axis=1).squeeze()\n",
    "        evt['dur'] = evt['dur_s']/self.fs\n",
    "\n",
    "        if not(fast):\n",
    "            evt['posx_s'], evt['posx_e'], evt['posy_s'], evt['posy_e'],\\\n",
    "            evt['posx_mean'], evt['posy_mean'], evt['posx_med'], evt['posy_med'],\\\n",
    "            evt['pv'], evt['pv_index'], evt['rms'], evt['std']   = \\\n",
    "               zip(*map(lambda x: calc_event_data(self, x), evt_compact))\n",
    "            evt['ampl_x'] = np.diff(evt[['posx_s', 'posx_e']])\n",
    "            evt['ampl_y'] = np.diff(evt[['posy_s', 'posy_e']])\n",
    "            evt['ampl'] = np.hypot(evt['ampl_x'], evt['ampl_y'])\n",
    "        #TODO:\n",
    "        #   calculate fix-to-fix saccade amplitude\n",
    "        self.evt = evt\n",
    "        return self.evt\n",
    "\n",
    "    def plot(self, spath = None, save=False, show=True, title=None):\n",
    "        '''Plots trial\n",
    "        '''\n",
    "        if show:\n",
    "            plt.ion()\n",
    "        else:\n",
    "            plt.ioff()\n",
    "\n",
    "        fig = plt.figure(figsize=(10,6))\n",
    "        ax00 = plt.subplot2grid((2, 2), (0, 0))\n",
    "        ax10 = plt.subplot2grid((2, 2), (1, 0), sharex=ax00)\n",
    "        ax01 = plt.subplot2grid((2, 2), (0, 1), rowspan=2)\n",
    "\n",
    "        ax00.plot(self.data['t'], self.data['x'], '-')\n",
    "        ax10.plot(self.data['t'], self.data['y'], '-')\n",
    "        ax01.plot(self.data['x'], self.data['y'], '-')\n",
    "        for e, c in ETData.evt_color_map.iteritems():\n",
    "            mask = self.data['evt'] == e\n",
    "            ax00.plot(self.data['t'][mask], self.data['x'][mask], '.', color = c)\n",
    "            ax10.plot(self.data['t'][mask], self.data['y'][mask], '.', color = c)\n",
    "            ax01.plot(self.data['x'][mask], self.data['y'][mask], '.', color = c)\n",
    "\n",
    "        etdata_extent = np.nanmax([np.abs(self.data['x']), np.abs(self.data['y'])])+1\n",
    "\n",
    "        ax00.axis([self.data['t'].min(), self.data['t'].max(), -etdata_extent, etdata_extent])\n",
    "        ax10.axis([self.data['t'].min(), self.data['t'].max(), -etdata_extent, etdata_extent])\n",
    "        ax01.axis([-etdata_extent, etdata_extent, -etdata_extent, etdata_extent])"
   ]
  },
  {
   "cell_type": "code",
   "execution_count": null,
   "metadata": {
    "colab": {},
    "colab_type": "code",
    "id": "mTHtsCsKrKtG"
   },
   "outputs": [],
   "source": [
    "def calc_k(gt, pr):\n",
    "    k = 1. if (gt == pr).all() else metrics.cohen_kappa_score(gt, pr)\n",
    "    return k"
   ]
  },
  {
   "cell_type": "code",
   "execution_count": null,
   "metadata": {
    "colab": {},
    "colab_type": "code",
    "id": "5Jt10KZyqHVw"
   },
   "outputs": [],
   "source": [
    "def eval_evt(etdata_gt, etdata_pr, n_events):\n",
    "\n",
    "    t = time.time()\n",
    "    if etdata_gt.evt is None:\n",
    "        etdata_gt.calc_evt(fast=True)\n",
    "    if etdata_pr.evt is None:\n",
    "        etdata_pr.calc_evt(fast=True)\n",
    "\n",
    "    #levenshtein distance\n",
    "\n",
    "    evt_gt = etdata_gt.evt['evt']\n",
    "    evt_gt = evt_gt[~(evt_gt==0)]\n",
    "    evt_pr = etdata_pr.evt['evt']\n",
    "    evt_pr = evt_pr[~(evt_pr==0)]\n",
    "    wer = Lev.distance(''.join(map(str, evt_gt)),\n",
    "                       ''.join(map(str, evt_pr)))/\\\n",
    "                       float(len(evt_gt))\n",
    "\n",
    "    _cer = map(lambda _a, _b: Lev.distance(_a, _b),\n",
    "               ''.join(map(str, etdata_gt.data['evt'])).split('0'),\n",
    "               ''.join(map(str, etdata_pr.data['evt'])).split('0'))\n",
    "    mask=etdata_gt.data['evt']==0\n",
    "    evt_len = float(sum(~mask))\n",
    "    cer = sum(_cer)/evt_len\n",
    "\n",
    "\n",
    "    #sample level K\n",
    "    t = time.time()\n",
    "    evts_gt_oh = convertToOneHot(etdata_gt.data['evt'], n_events)\n",
    "    evts_pr_oh = convertToOneHot(etdata_pr.data['evt'], n_events)\n",
    "    ks = [calc_k(evts_gt_oh[:,i], evts_pr_oh[:,i]) for i in range(1, n_events)]\n",
    "\n",
    "    evt_gt = etdata_gt.data['evt']\n",
    "    evt_gt = evt_gt[~(evt_gt==0)]\n",
    "    evt_pr = etdata_pr.data['evt']\n",
    "    evt_pr = evt_pr[~(evt_pr==0)]\n",
    "    ks_all = metrics.cohen_kappa_score(evt_gt, evt_pr)\n",
    "\n",
    "    ks.extend([ks_all])\n",
    "\n",
    "    #event level K and F1\n",
    "    try:\n",
    "        t = time.time()\n",
    "\n",
    "        ke_ = []\n",
    "        f1e_ = []\n",
    "        for evt in range(1, 4):\n",
    "            #evt=1\n",
    "            _etdata_gt = copy.deepcopy(etdata_gt)\n",
    "            mask_ext = _etdata_gt.data['evt']==0\n",
    "            mask = _etdata_gt.data['evt']==evt\n",
    "            _etdata_gt.data['evt'][mask]=1\n",
    "            _etdata_gt.data['evt'][~mask]=0\n",
    "            _etdata_gt.data['evt'][mask_ext]=255\n",
    "            _etdata_gt.calc_evt(fast=True)\n",
    "\n",
    "            _etdata_pr = copy.deepcopy(etdata_pr)\n",
    "            mask_ext = _etdata_pr.data['evt']==0\n",
    "            mask = _etdata_pr.data['evt']==evt\n",
    "            _etdata_pr.data['evt'][mask]=1\n",
    "            _etdata_pr.data['evt'][~mask]=0\n",
    "            _etdata_pr.data['evt'][mask_ext]=255\n",
    "            _etdata_pr.calc_evt(fast=True)\n",
    "\n",
    "            evt_overlap, evt_gt, evt_pr = calc_KE(_etdata_gt, _etdata_pr)\n",
    "\n",
    "            mask = (evt_gt==255) & (evt_pr==255)\n",
    "            evt_gt = evt_gt[~mask]\n",
    "            evt_pr = evt_pr[~mask]\n",
    "            ke_.append(calc_k(evt_gt, evt_pr))\n",
    "            f1e_.append(calc_f1(evt_gt, evt_pr))\n",
    "\n",
    "\n",
    "        evt_overlap, evt_gt, evt_pr = calc_KE(etdata_gt, etdata_pr)\n",
    "        mask = (evt_gt==0) & (evt_pr==0)\n",
    "        evt_gt = evt_gt[~mask]\n",
    "        evt_pr = evt_pr[~mask]\n",
    "        #print ('[overlap], dur %.2f' % (time.time()-t))\n",
    "        evt_gt_oh = convertToOneHot(evt_gt, n_events)\n",
    "        evt_pr_oh = convertToOneHot(evt_pr, n_events)\n",
    "        ke = [calc_k(evt_gt_oh[:,i], evt_pr_oh[:,i]) for i in range(1, n_events)]\n",
    "        f1e = [calc_f1(evt_gt_oh[:,i], evt_pr_oh[:,i]) for i in range(1, n_events)]\n",
    "\n",
    "        ke_all = metrics.cohen_kappa_score(evt_gt, evt_pr)\n",
    "        f1_all = metrics.f1_score(evt_gt, evt_pr, average='weighted')\n",
    "        ke.extend([ke_all])\n",
    "        ke_.extend([ke_all])\n",
    "        f1e.extend([f1_all])\n",
    "        f1e_.extend([f1_all])\n",
    "        #print ('[KE], dur %.2f' % (time.time()-t))\n",
    "    except:\n",
    "        #TODO: Debug\n",
    "        ks = [0.,]*(n_events+1)\n",
    "        ke = [0.,]*(n_events+1)\n",
    "        f1e = [0.,]*(n_events+1)\n",
    "\n",
    "    return wer, cer, ke_, ks, f1e_, (evt_overlap, evt_gt, evt_pr)"
   ]
  },
  {
   "cell_type": "code",
   "execution_count": null,
   "metadata": {
    "colab": {},
    "colab_type": "code",
    "id": "_A3eqnJElnlw"
   },
   "outputs": [],
   "source": [
    "def run_infer(model, n_samples, data_loader, **kwargs):\n",
    "    fs = 500.\n",
    "    cuda = False if not(\"cuda\" in kwargs) else kwargs[\"cuda\"]\n",
    "    use_tqdm = False if not(\"use_tqdm\" in kwargs) else kwargs[\"use_tqdm\"]\n",
    "    perform_eval = True if not(\"eval\" in kwargs) else kwargs[\"eval\"]\n",
    "    #save_dir = None if not(kwargs.has_key(\"save_dir\")) else kwargs[\"save_dir\"]\n",
    "\n",
    "    etdata_pr = ETData()\n",
    "    etdata_gt = ETData()\n",
    "    _etdata_pr = []\n",
    "    _etdata_gt = []\n",
    "    _pr_raw=[]\n",
    "\n",
    "    sample_accum = 0\n",
    "    t = time.time()\n",
    "    iterator = tqdm(data_loader) if use_tqdm else data_loader\n",
    "    with torch.no_grad():\n",
    "        for data in iterator:\n",
    "            inputs, targets, input_percentages, target_sizes, aux = data\n",
    "\n",
    "            #do forward pass\n",
    "            # inputs = Variable(inputs, volatile=True).contiguous()\n",
    "            if cuda:\n",
    "                inputs = inputs.cuda()\n",
    "            y = model(inputs)\n",
    "            seq_length = y.size(1)\n",
    "            sizes = Variable(input_percentages.mul(int(seq_length)).int())\n",
    "\n",
    "            if cuda:\n",
    "                inputs = inputs.cpu()\n",
    "                y = y.cpu()\n",
    "                sizes = sizes.cpu()\n",
    "\n",
    "                targets = targets.cpu()\n",
    "\n",
    "            #decode output\n",
    "            outputs_split = [_y[:_l] for _y, _l in zip(y.data, target_sizes)]\n",
    "\n",
    "            events_decoded = [torch.max(_o, 1)[1].numpy().flatten() for _o in outputs_split]\n",
    "            events_target= np.array_split(targets.numpy(), np.cumsum(sizes.data.numpy())[:-1])\n",
    "\n",
    "            trials = [np.cumsum(_y[0, :, :_l], axis=1).T for _y, _l in zip(inputs.data.numpy(), target_sizes)]\n",
    "\n",
    "            for ind, (gt, pr, pr_raw, tr) in enumerate(zip(events_target, events_decoded, outputs_split, trials)):\n",
    "                #TODO:\n",
    "                #check why sizes do not match sometimes\n",
    "\n",
    "                minl = min(len(gt), len(pr))\n",
    "                gt = gt[:minl]\n",
    "                pr = pr[:minl]\n",
    "                _pr_raw.append(pr_raw.numpy())\n",
    "                #pr = np.hstack((pr[0], pr[:-1]))\n",
    "                _etdata_pr.extend(zip(np.arange(len(gt))/fs,\n",
    "                              tr[:,0],\n",
    "                              tr[:,1],\n",
    "                              itertools.repeat(True),\n",
    "                              pr+1\n",
    "                           ))\n",
    "                _etdata_pr.append((0, )*5)\n",
    "                _etdata_gt.extend(zip(np.arange(len(gt))/fs,\n",
    "                              tr[:,0],\n",
    "                              tr[:,1],\n",
    "                              itertools.repeat(True),\n",
    "                              gt+1\n",
    "                           ))\n",
    "                _etdata_gt.append((0, )*5)\n",
    "\n",
    "                sample_accum+=1\n",
    "\n",
    "            if sample_accum >= n_samples:\n",
    "                break\n",
    "        print ('[FP], n_samples: %d, dur: %.2f' % (sample_accum, time.time()-t))\n",
    "\n",
    "    if perform_eval:\n",
    "        #run evaluation\n",
    "        etdata_pr.load(np.array(_etdata_pr), **{'source':'np_array'})\n",
    "        etdata_gt.load(np.array(_etdata_gt), **{'source':'np_array'})\n",
    "        wer, cer, ke, ks, _, (evt_overlap, _, _) = eval_evt(etdata_gt, etdata_pr, 4)\n",
    "        return wer, cer, ke, ks, (_etdata_gt, _etdata_pr, _pr_raw)\n",
    "    else:\n",
    "        return _etdata_gt, _etdata_pr, _pr_raw"
   ]
  },
  {
   "cell_type": "code",
   "execution_count": null,
   "metadata": {
    "colab": {},
    "colab_type": "code",
    "id": "YG5HcXnvLjIl"
   },
   "outputs": [],
   "source": [
    "def checkpoint(model, step=None, epoch=None):\n",
    "    package = {\n",
    "        'epoch': epoch if epoch else 'N/A',\n",
    "        'step': step if step else 'N/A',\n",
    "        'state_dict': model.state_dict(),\n",
    "    }\n",
    "    return package"
   ]
  },
  {
   "cell_type": "code",
   "execution_count": null,
   "metadata": {
    "colab": {},
    "colab_type": "code",
    "id": "PZkL9MM_IfxY"
   },
   "outputs": [],
   "source": [
    "def load(model, model_dir, config, model_name=None):\n",
    "    if len(config[\"model_name\"]) or (model_name is not None):\n",
    "        model_name = config[\"model_name\"][-1] if model_name is None else model_name\n",
    "    else:\n",
    "        model_name = None\n",
    "    # logdir = \"logdir/%s/models\" % model_dir\n",
    "    logdir = model_dir+\"/models\"\n",
    "\n",
    "\n",
    "    fpath_model = \"%s/%s\" % (logdir, model_name)\n",
    "    # print (fpath_model)\n",
    "    if os.path.exists(fpath_model) and (model_name is not None):\n",
    "        print (\"Loading model: %s\" % fpath_model)\n",
    "\n",
    "        package = torch.load(fpath_model, map_location=lambda storage, loc: storage)\n",
    "        epoch = package['epoch']+1 if not(package['epoch'] == 'N/A') else 1\n",
    "        #edit variable names for loading in cpu\n",
    "        #if not(config[\"cuda\"]):\n",
    "\n",
    "        #mutation error\n",
    "        state_dict_copy = package['state_dict'].copy()\n",
    "\n",
    "        # for k in package['state_dict'].keys():\n",
    "        for k in state_dict_copy.keys():#mutation error\n",
    "            package['state_dict'][k.replace('module.', '', 1)] = package['state_dict'].pop(k)\n",
    "\n",
    "        state_dict = dict()\n",
    "        for k in model.state_dict().keys():\n",
    "            if k in package['state_dict']:\n",
    "                state_dict[k] = package['state_dict'][k]\n",
    "        model_state = model.state_dict()\n",
    "        model_state.update(state_dict)\n",
    "        model.load_state_dict(model_state)\n",
    "        print (\"done.\")\n",
    "    else:\n",
    "        epoch = 1\n",
    "        print (\"Pretrained model not found\")\n",
    "    return model_name, epoch"
   ]
  },
  {
   "cell_type": "code",
   "execution_count": null,
   "metadata": {
    "colab": {},
    "colab_type": "code",
    "id": "Nc-ev1opJ_Iw"
   },
   "outputs": [],
   "source": [
    "def save(model, model_dir, epoch, step,config):\n",
    "    logdir = model_dir+\"/models\"\n",
    "    mkpath(logdir)\n",
    "    fname_model = 'gazeNET_%04d_%08d.pth.tar' %(epoch, step)\n",
    "    file_path = '%s/%s' % (logdir, fname_model)\n",
    "\n",
    "    torch.save(checkpoint(model, step, epoch), file_path)\n",
    "    config[\"model_name\"].append(fname_model)\n",
    "    model_list = config[\"model_name\"][-config['max_to_keep']:]\n",
    "    remove_list = config[\"model_name\"][:-config['max_to_keep']:]\n",
    "    for _rm in remove_list:\n",
    "        fpath_rm = '%s/%s' % (logdir, _rm)\n",
    "        if os.path.exists(fpath_rm):\n",
    "            os.remove(fpath_rm)\n",
    "    config[\"model_name\"] = model_list\n",
    "    return config"
   ]
  },
  {
   "cell_type": "code",
   "execution_count": null,
   "metadata": {
    "colab": {},
    "colab_type": "code",
    "id": "fl99Ai1kGm4f"
   },
   "outputs": [],
   "source": [
    "def calc_params(model):\n",
    "    all_params = OrderedDict()\n",
    "    params = model.state_dict()\n",
    "\n",
    "    for _p in params.keys():\n",
    "        #if not('ih_l0_reverse' in _p):\n",
    "        all_params[_p] = params[_p].nelement()\n",
    "    return all_params"
   ]
  },
  {
   "cell_type": "code",
   "execution_count": null,
   "metadata": {
    "colab": {},
    "colab_type": "code",
    "id": "4YVfc1V8GR8n"
   },
   "outputs": [],
   "source": [
    "class SequenceWise(nn.Module):\n",
    "    def __init__(self, module):\n",
    "        super(SequenceWise, self).__init__()\n",
    "        self.module = module\n",
    "\n",
    "    def forward(self, x):\n",
    "        t, n = x.size(0), x.size(1)\n",
    "        x = x.view(t * n, -1)\n",
    "        x = self.module(x)\n",
    "        x = x.view(t, n, -1)\n",
    "        return x\n",
    "\n",
    "    def __repr__(self):\n",
    "        tmpstr = self.__class__.__name__ + ' (\\n'\n",
    "        tmpstr += self.module.__repr__()\n",
    "        tmpstr += ')'\n",
    "        return tmpstr"
   ]
  },
  {
   "cell_type": "code",
   "execution_count": null,
   "metadata": {
    "colab": {},
    "colab_type": "code",
    "id": "3J2yv-mIGMFG"
   },
   "outputs": [],
   "source": [
    "class BatchRNN(nn.Module):\n",
    "    def __init__(self, input_size, hidden_size, bidirectional=False, batch_norm=True, keep_prob=0.5):\n",
    "        super(BatchRNN, self).__init__()\n",
    "        self.batch_norm = batch_norm\n",
    "        self.bidirectional = bidirectional\n",
    "\n",
    "        rnn_bias = False if batch_norm else True\n",
    "        self.rnn = nn.GRU(input_size=input_size,\n",
    "                          hidden_size=hidden_size,\n",
    "                          bidirectional=bidirectional,\n",
    "                          batch_first=True,\n",
    "                          bias=rnn_bias)\n",
    "        self.batch_norm_op = SequenceWise(nn.BatchNorm1d(hidden_size))\n",
    "\n",
    "        self.dropout_op = nn.Dropout(1-keep_prob)\n",
    "\n",
    "    def forward(self, x):\n",
    "        x, _ = self.rnn(x)\n",
    "        x = x.contiguous()\n",
    "        if self.bidirectional:\n",
    "            x = x.view(x.size(0), x.size(1), 2, -1).sum(2).view(x.size(0), x.size(1), -1)  # (TxNxH*2) -> (TxNxH) by sum\n",
    "            x = x.contiguous()\n",
    "        if self.batch_norm:\n",
    "            x = self.batch_norm_op(x)\n",
    "        x = self.dropout_op(x)\n",
    "        return x"
   ]
  },
  {
   "cell_type": "code",
   "execution_count": null,
   "metadata": {
    "colab": {},
    "colab_type": "code",
    "id": "FzqhulKTFvpn"
   },
   "outputs": [],
   "source": [
    "class gazeNET(nn.Module):\n",
    "    def __init__(self, config, num_classes, seed=220617):\n",
    "        super(gazeNET, self).__init__()\n",
    "        torch.manual_seed(seed)\n",
    "        if (torch.cuda.device_count()>0):\n",
    "            torch.cuda.manual_seed(seed)\n",
    "\n",
    "        if 'conv_stack' in config['architecture']:\n",
    "            ## convolutional stack\n",
    "            conv_config = config['architecture']['conv_stack']\n",
    "            conv_stack = []\n",
    "            #feat_dim = int(math.floor((config['sample_rate'] * 2*config['window_stride']) / 2) + 1)\n",
    "            feat_dim = 2\n",
    "            in_channels = 1\n",
    "            for _conv in conv_config:\n",
    "                name, out_channels, kernel_size, stride = _conv\n",
    "                padding = map(lambda x: int(x/2), kernel_size)\n",
    "                _conv = nn.Conv2d(in_channels, out_channels,\n",
    "                              kernel_size=tuple(kernel_size), stride=tuple(stride),\n",
    "                              padding = tuple(padding),\n",
    "                              bias = False\n",
    "                              )\n",
    "                #init_vars.xavier_uniform(conv_op.weight, gain=np.sqrt(2))\n",
    "                _conv = nn.Sequential(\n",
    "                    _conv,\n",
    "                    nn.BatchNorm2d(out_channels),\n",
    "                    nn.Hardtanh(0, 20, inplace=True),\n",
    "                    nn.Dropout(1-config['keep_prob']),\n",
    "                )\n",
    "                conv_stack.append((name, _conv))\n",
    "                in_channels = out_channels\n",
    "                feat_dim = feat_dim/stride[0]+1\n",
    "            self.conv_stack = nn.Sequential(OrderedDict(conv_stack))\n",
    "            rnn_input_size = feat_dim * out_channels\n",
    "        else:\n",
    "            self.conv_stack = None\n",
    "            rnn_input_size = 2\n",
    "\n",
    "        ## RNN stack\n",
    "        rnn_config = config['architecture']['rnn_stack']\n",
    "        rnn_stack = []\n",
    "        for _rnn in rnn_config:\n",
    "            name, hidden_size, batch_norm, bidirectional = _rnn\n",
    "            rnn_input_size=int(rnn_input_size)\n",
    "            _rnn = BatchRNN(input_size=rnn_input_size, hidden_size=hidden_size,\n",
    "                            bidirectional=bidirectional, batch_norm=batch_norm,\n",
    "                            keep_prob = config['keep_prob'])\n",
    "            rnn_stack.append((name, _rnn))\n",
    "            rnn_input_size = hidden_size\n",
    "        self.rnn_stack = nn.Sequential(OrderedDict(rnn_stack))\n",
    "\n",
    "        ## FC stack\n",
    "        self.fc = nn.Sequential(\n",
    "            SequenceWise(nn.Linear(hidden_size, num_classes, bias=False)),\n",
    "        )\n",
    "    ### forward\n",
    "    def forward(self, x):\n",
    "        if self.conv_stack is not None:\n",
    "            x = self.conv_stack(x)\n",
    "\n",
    "        sizes = x.size()\n",
    "        x = x.view(sizes[0], sizes[1] * sizes[2], sizes[3])  # Collapse feature dimension\n",
    "        x = x.transpose(1, 2).contiguous()  # TxNxH\n",
    "\n",
    "        x = self.rnn_stack(x)\n",
    "\n",
    "        x = self.fc(x)\n",
    "        return x"
   ]
  },
  {
   "cell_type": "markdown",
   "metadata": {
    "colab_type": "text",
    "id": "puxvwzY8Vz3E"
   },
   "source": [
    "# Run_GazeNet"
   ]
  },
  {
   "cell_type": "code",
   "execution_count": null,
   "metadata": {
    "colab": {},
    "colab_type": "code",
    "id": "2HwnQP2uRWB3"
   },
   "outputs": [],
   "source": [
    "# root_data='etdata/Testing'\n",
    "# root='etdata/Testing/data_clean_npy'\n",
    "\n",
    "root_data='etdata/ETRA_2019_Challenge_Dataset'\n",
    "root='etdata/ETRA_2019_Challenge_Dataset/data_clean_npy'\n",
    "\n",
    "# dataset='data_clean_numpy'\n",
    "model_dir='log_dir/model_final'\n",
    "model_name='gazeNET_0004_00003750.pth.tar'\n",
    "num_workers=1\n",
    "# save_pred=??\n",
    "\n",
    "seed=220617"
   ]
  },
  {
   "cell_type": "markdown",
   "metadata": {
    "colab_type": "text",
    "id": "ukcalQV8BSHF"
   },
   "source": [
    "## run"
   ]
  },
  {
   "cell_type": "code",
   "execution_count": null,
   "metadata": {
    "colab": {
     "base_uri": "https://localhost:8080/",
     "height": 1000
    },
    "colab_type": "code",
    "id": "lJXHmCQ7HM4_",
    "outputId": "91013f18-382d-43e5-8749-39e934ae6add"
   },
   "outputs": [
    {
     "name": "stdout",
     "output_type": "stream",
     "text": [
      "[FP], n_samples: 1, dur: 3.31\n",
      "ETDATA----------------------------- 500.0000000000551\n"
     ]
    },
    {
     "name": "stderr",
     "output_type": "stream",
     "text": [
      "\r",
      "  3%|▎         | 4/120 [00:25<12:29,  6.46s/it]"
     ]
    },
    {
     "name": "stdout",
     "output_type": "stream",
     "text": [
      "\n",
      "\n",
      " 009 009_004_FreeViewing_Blank_grey Tested\n",
      "\n",
      "\n",
      "[FP], n_samples: 1, dur: 3.25\n",
      "ETDATA----------------------------- 500.0000000000551\n"
     ]
    },
    {
     "name": "stderr",
     "output_type": "stream",
     "text": [
      "\r",
      "  4%|▍         | 5/120 [00:31<12:15,  6.39s/it]"
     ]
    },
    {
     "name": "stdout",
     "output_type": "stream",
     "text": [
      "\n",
      "\n",
      " 009 009_005_FreeViewing_Puzzle_puz015 Tested\n",
      "\n",
      "\n",
      "[FP], n_samples: 1, dur: 3.27\n",
      "ETDATA----------------------------- 500.0000000000551\n"
     ]
    },
    {
     "name": "stderr",
     "output_type": "stream",
     "text": [
      "\r",
      "  5%|▌         | 6/120 [00:38<12:02,  6.33s/it]"
     ]
    },
    {
     "name": "stdout",
     "output_type": "stream",
     "text": [
      "\n",
      "\n",
      " 009 009_009_FreeViewing_Waldo_wal015 Tested\n",
      "\n",
      "\n",
      "[FP], n_samples: 1, dur: 3.30\n",
      "ETDATA----------------------------- 500.0000000000551\n"
     ]
    },
    {
     "name": "stderr",
     "output_type": "stream",
     "text": [
      "\r",
      "  6%|▌         | 7/120 [00:44<12:04,  6.42s/it]"
     ]
    },
    {
     "name": "stdout",
     "output_type": "stream",
     "text": [
      "\n",
      "\n",
      " 009 009_010_FreeViewing_Waldo_wal013 Tested\n",
      "\n",
      "\n",
      "[FP], n_samples: 1, dur: 3.28\n",
      "ETDATA----------------------------- 500.0000000000551\n"
     ]
    },
    {
     "name": "stderr",
     "output_type": "stream",
     "text": [
      "\r",
      "  7%|▋         | 8/120 [00:50<11:52,  6.36s/it]"
     ]
    },
    {
     "name": "stdout",
     "output_type": "stream",
     "text": [
      "\n",
      "\n",
      " 009 009_007_Fixation_Blank_grey Tested\n",
      "\n",
      "\n",
      "[FP], n_samples: 1, dur: 3.27\n",
      "ETDATA----------------------------- 500.0000000000551\n"
     ]
    },
    {
     "name": "stderr",
     "output_type": "stream",
     "text": [
      "\r",
      "  8%|▊         | 9/120 [00:57<11:42,  6.33s/it]"
     ]
    },
    {
     "name": "stdout",
     "output_type": "stream",
     "text": [
      "\n",
      "\n",
      " 009 009_008_FreeViewing_Natural_nat015 Tested\n",
      "\n",
      "\n",
      "[FP], n_samples: 1, dur: 3.31\n",
      "ETDATA----------------------------- 500.0000000000551\n"
     ]
    },
    {
     "name": "stderr",
     "output_type": "stream",
     "text": [
      "\r",
      "  8%|▊         | 10/120 [01:03<11:35,  6.32s/it]"
     ]
    },
    {
     "name": "stdout",
     "output_type": "stream",
     "text": [
      "\n",
      "\n",
      " 009 009_011_FreeViewing_Natural_nat014 Tested\n",
      "\n",
      "\n",
      "[FP], n_samples: 1, dur: 3.27\n",
      "ETDATA----------------------------- 500.0000000000551\n"
     ]
    },
    {
     "name": "stderr",
     "output_type": "stream",
     "text": [
      "\r",
      "  9%|▉         | 11/120 [01:09<11:25,  6.29s/it]"
     ]
    },
    {
     "name": "stdout",
     "output_type": "stream",
     "text": [
      "\n",
      "\n",
      " 009 009_006_FreeViewing_Natural_nat013 Tested\n",
      "\n",
      "\n",
      "[FP], n_samples: 1, dur: 3.29\n",
      "ETDATA----------------------------- 500.0000000000551\n"
     ]
    },
    {
     "name": "stderr",
     "output_type": "stream",
     "text": [
      "\r",
      " 10%|█         | 12/120 [01:15<11:21,  6.31s/it]"
     ]
    },
    {
     "name": "stdout",
     "output_type": "stream",
     "text": [
      "\n",
      "\n",
      " 009 009_013_Fixation_Natural_nat013 Tested\n",
      "\n",
      "\n",
      "[FP], n_samples: 1, dur: 3.25\n",
      "ETDATA----------------------------- 500.0000000000551\n"
     ]
    },
    {
     "name": "stderr",
     "output_type": "stream",
     "text": [
      "\r",
      " 11%|█         | 13/120 [01:22<11:11,  6.28s/it]"
     ]
    },
    {
     "name": "stdout",
     "output_type": "stream",
     "text": [
      "\n",
      "\n",
      " 009 009_016_Fixation_Waldo_wal014 Tested\n",
      "\n",
      "\n",
      "[FP], n_samples: 1, dur: 3.26\n",
      "ETDATA----------------------------- 500.0000000000551\n"
     ]
    },
    {
     "name": "stderr",
     "output_type": "stream",
     "text": [
      "\r",
      " 12%|█▏        | 14/120 [01:28<11:02,  6.25s/it]"
     ]
    },
    {
     "name": "stdout",
     "output_type": "stream",
     "text": [
      "\n",
      "\n",
      " 009 009_015_Fixation_Blank_grey Tested\n",
      "\n",
      "\n",
      "[FP], n_samples: 1, dur: 3.31\n",
      "ETDATA----------------------------- 500.0000000000551\n"
     ]
    },
    {
     "name": "stderr",
     "output_type": "stream",
     "text": [
      "\r",
      " 12%|█▎        | 15/120 [01:34<10:56,  6.25s/it]"
     ]
    },
    {
     "name": "stdout",
     "output_type": "stream",
     "text": [
      "\n",
      "\n",
      " 009 009_017_Fixation_Waldo_wal012 Tested\n",
      "\n",
      "\n",
      "[FP], n_samples: 1, dur: 3.26\n",
      "ETDATA----------------------------- 500.0000000000551\n"
     ]
    },
    {
     "name": "stderr",
     "output_type": "stream",
     "text": [
      "\r",
      " 13%|█▎        | 16/120 [01:40<10:50,  6.26s/it]"
     ]
    },
    {
     "name": "stdout",
     "output_type": "stream",
     "text": [
      "\n",
      "\n",
      " 009 009_014_FreeViewing_Blank_grey Tested\n",
      "\n",
      "\n",
      "[FP], n_samples: 1, dur: 3.28\n",
      "ETDATA----------------------------- 500.0000000000551\n"
     ]
    },
    {
     "name": "stderr",
     "output_type": "stream",
     "text": [
      "\r",
      " 14%|█▍        | 17/120 [01:47<10:43,  6.25s/it]"
     ]
    },
    {
     "name": "stdout",
     "output_type": "stream",
     "text": [
      "\n",
      "\n",
      " 009 009_012_Fixation_Puzzle_puz013 Tested\n",
      "\n",
      "\n",
      "[FP], n_samples: 1, dur: 3.26\n",
      "ETDATA----------------------------- 500.0000000000551\n"
     ]
    },
    {
     "name": "stderr",
     "output_type": "stream",
     "text": [
      "\r",
      " 15%|█▌        | 18/120 [01:53<10:34,  6.22s/it]"
     ]
    },
    {
     "name": "stdout",
     "output_type": "stream",
     "text": [
      "\n",
      "\n",
      " 009 009_021_FreeViewing_Waldo_wal012 Tested\n",
      "\n",
      "\n",
      "[FP], n_samples: 1, dur: 3.28\n",
      "ETDATA----------------------------- 500.0000000000551\n"
     ]
    },
    {
     "name": "stderr",
     "output_type": "stream",
     "text": [
      "\r",
      " 16%|█▌        | 19/120 [01:59<10:26,  6.20s/it]"
     ]
    },
    {
     "name": "stdout",
     "output_type": "stream",
     "text": [
      "\n",
      "\n",
      " 009 009_019_FreeViewing_Puzzle_puz011 Tested\n",
      "\n",
      "\n",
      "[FP], n_samples: 1, dur: 3.28\n",
      "ETDATA----------------------------- 500.0000000000551\n"
     ]
    },
    {
     "name": "stderr",
     "output_type": "stream",
     "text": [
      "\r",
      " 17%|█▋        | 20/120 [02:05<10:19,  6.20s/it]"
     ]
    },
    {
     "name": "stdout",
     "output_type": "stream",
     "text": [
      "\n",
      "\n",
      " 009 009_023_Fixation_Puzzle_puz012 Tested\n",
      "\n",
      "\n",
      "[FP], n_samples: 1, dur: 3.26\n",
      "ETDATA----------------------------- 500.0000000000551\n"
     ]
    },
    {
     "name": "stderr",
     "output_type": "stream",
     "text": [
      "\r",
      " 18%|█▊        | 21/120 [02:11<10:15,  6.22s/it]"
     ]
    },
    {
     "name": "stdout",
     "output_type": "stream",
     "text": [
      "\n",
      "\n",
      " 009 009_018_Fixation_Waldo_wal015 Tested\n",
      "\n",
      "\n",
      "[FP], n_samples: 1, dur: 3.25\n",
      "ETDATA----------------------------- 500.0000000000551\n"
     ]
    },
    {
     "name": "stderr",
     "output_type": "stream",
     "text": [
      "\r",
      " 18%|█▊        | 22/120 [02:18<10:07,  6.20s/it]"
     ]
    },
    {
     "name": "stdout",
     "output_type": "stream",
     "text": [
      "\n",
      "\n",
      " 009 009_020_Fixation_Waldo_wal013 Tested\n",
      "\n",
      "\n",
      "[FP], n_samples: 1, dur: 3.27\n",
      "ETDATA----------------------------- 500.0000000000551\n"
     ]
    },
    {
     "name": "stderr",
     "output_type": "stream",
     "text": [
      "\r",
      " 19%|█▉        | 23/120 [02:24<10:00,  6.19s/it]"
     ]
    },
    {
     "name": "stdout",
     "output_type": "stream",
     "text": [
      "\n",
      "\n",
      " 009 009_022_Fixation_Puzzle_puz014 Tested\n",
      "\n",
      "\n",
      "[FP], n_samples: 1, dur: 3.28\n",
      "ETDATA----------------------------- 500.0000000000551\n"
     ]
    },
    {
     "name": "stderr",
     "output_type": "stream",
     "text": [
      "\r",
      " 20%|██        | 24/120 [02:30<09:56,  6.21s/it]"
     ]
    },
    {
     "name": "stdout",
     "output_type": "stream",
     "text": [
      "\n",
      "\n",
      " 009 009_027_FreeViewing_Waldo_wal014 Tested\n",
      "\n",
      "\n",
      "[FP], n_samples: 1, dur: 3.26\n",
      "ETDATA----------------------------- 500.0000000000551\n"
     ]
    },
    {
     "name": "stderr",
     "output_type": "stream",
     "text": [
      "\r",
      " 21%|██        | 25/120 [02:36<09:49,  6.20s/it]"
     ]
    },
    {
     "name": "stdout",
     "output_type": "stream",
     "text": [
      "\n",
      "\n",
      " 009 009_025_Fixation_Blank_grey Tested\n",
      "\n",
      "\n",
      "[FP], n_samples: 1, dur: 3.27\n",
      "ETDATA----------------------------- 500.0000000000551\n"
     ]
    },
    {
     "name": "stderr",
     "output_type": "stream",
     "text": [
      "\r",
      " 22%|██▏       | 26/120 [02:42<09:46,  6.23s/it]"
     ]
    },
    {
     "name": "stdout",
     "output_type": "stream",
     "text": [
      "\n",
      "\n",
      " 009 009_026_Fixation_Blank_grey Tested\n",
      "\n",
      "\n",
      "[FP], n_samples: 1, dur: 3.29\n",
      "ETDATA----------------------------- 500.0000000000551\n"
     ]
    },
    {
     "name": "stderr",
     "output_type": "stream",
     "text": [
      "\r",
      " 22%|██▎       | 27/120 [02:49<09:38,  6.23s/it]"
     ]
    },
    {
     "name": "stdout",
     "output_type": "stream",
     "text": [
      "\n",
      "\n",
      " 009 009_029_FreeViewing_Natural_nat011 Tested\n",
      "\n",
      "\n",
      "[FP], n_samples: 1, dur: 3.30\n",
      "ETDATA----------------------------- 500.0000000000551\n"
     ]
    },
    {
     "name": "stderr",
     "output_type": "stream",
     "text": [
      "\r",
      " 23%|██▎       | 28/120 [02:55<09:33,  6.24s/it]"
     ]
    },
    {
     "name": "stdout",
     "output_type": "stream",
     "text": [
      "\n",
      "\n",
      " 009 009_028_FreeViewing_Puzzle_puz014 Tested\n",
      "\n",
      "\n",
      "[FP], n_samples: 1, dur: 3.26\n",
      "ETDATA----------------------------- 500.0000000000551\n"
     ]
    },
    {
     "name": "stderr",
     "output_type": "stream",
     "text": [
      "\r",
      " 24%|██▍       | 29/120 [03:01<09:28,  6.25s/it]"
     ]
    },
    {
     "name": "stdout",
     "output_type": "stream",
     "text": [
      "\n",
      "\n",
      " 009 009_024_FreeViewing_Blank_grey Tested\n",
      "\n",
      "\n",
      "[FP], n_samples: 1, dur: 3.25\n",
      "ETDATA----------------------------- 500.0000000000551\n"
     ]
    },
    {
     "name": "stderr",
     "output_type": "stream",
     "text": [
      "\r",
      " 25%|██▌       | 30/120 [03:07<09:20,  6.22s/it]"
     ]
    },
    {
     "name": "stdout",
     "output_type": "stream",
     "text": [
      "\n",
      "\n",
      " 009 009_035_FreeViewing_Blank_grey Tested\n",
      "\n",
      "\n",
      "[FP], n_samples: 1, dur: 3.25\n",
      "ETDATA----------------------------- 500.0000000000551\n"
     ]
    },
    {
     "name": "stderr",
     "output_type": "stream",
     "text": [
      "\r",
      " 26%|██▌       | 31/120 [03:14<09:13,  6.22s/it]"
     ]
    },
    {
     "name": "stdout",
     "output_type": "stream",
     "text": [
      "\n",
      "\n",
      " 009 009_033_Fixation_Blank_grey Tested\n",
      "\n",
      "\n",
      "[FP], n_samples: 1, dur: 3.26\n",
      "ETDATA----------------------------- 500.0000000000551\n"
     ]
    },
    {
     "name": "stderr",
     "output_type": "stream",
     "text": [
      "\r",
      " 27%|██▋       | 32/120 [03:20<09:06,  6.21s/it]"
     ]
    },
    {
     "name": "stdout",
     "output_type": "stream",
     "text": [
      "\n",
      "\n",
      " 009 009_036_Fixation_Puzzle_puz015 Tested\n",
      "\n",
      "\n",
      "[FP], n_samples: 1, dur: 3.23\n",
      "ETDATA----------------------------- 500.0000000000551\n"
     ]
    },
    {
     "name": "stderr",
     "output_type": "stream",
     "text": [
      "\r",
      " 28%|██▊       | 33/120 [03:26<08:59,  6.20s/it]"
     ]
    },
    {
     "name": "stdout",
     "output_type": "stream",
     "text": [
      "\n",
      "\n",
      " 009 009_031_FreeViewing_Natural_nat012 Tested\n",
      "\n",
      "\n",
      "[FP], n_samples: 1, dur: 3.21\n",
      "ETDATA----------------------------- 500.0000000000551\n"
     ]
    },
    {
     "name": "stderr",
     "output_type": "stream",
     "text": [
      "\r",
      " 28%|██▊       | 34/120 [03:32<08:54,  6.21s/it]"
     ]
    },
    {
     "name": "stdout",
     "output_type": "stream",
     "text": [
      "\n",
      "\n",
      " 009 009_032_Fixation_Puzzle_puz011 Tested\n",
      "\n",
      "\n",
      "[FP], n_samples: 1, dur: 3.23\n",
      "ETDATA----------------------------- 500.0000000000551\n"
     ]
    },
    {
     "name": "stderr",
     "output_type": "stream",
     "text": [
      "\r",
      " 29%|██▉       | 35/120 [03:38<08:47,  6.21s/it]"
     ]
    },
    {
     "name": "stdout",
     "output_type": "stream",
     "text": [
      "\n",
      "\n",
      " 009 009_034_FreeViewing_Puzzle_puz012 Tested\n",
      "\n",
      "\n",
      "[FP], n_samples: 1, dur: 3.27\n",
      "ETDATA----------------------------- 500.0000000000551\n"
     ]
    },
    {
     "name": "stderr",
     "output_type": "stream",
     "text": [
      "\r",
      " 30%|███       | 36/120 [03:45<08:48,  6.29s/it]"
     ]
    },
    {
     "name": "stdout",
     "output_type": "stream",
     "text": [
      "\n",
      "\n",
      " 009 009_030_Fixation_Natural_nat015 Tested\n",
      "\n",
      "\n",
      "[FP], n_samples: 1, dur: 3.30\n",
      "ETDATA----------------------------- 500.0000000000551\n"
     ]
    },
    {
     "name": "stderr",
     "output_type": "stream",
     "text": [
      "\r",
      " 31%|███       | 37/120 [03:51<08:38,  6.25s/it]"
     ]
    },
    {
     "name": "stdout",
     "output_type": "stream",
     "text": [
      "\n",
      "\n",
      " 009 009_038_Fixation_Waldo_wal011 Tested\n",
      "\n",
      "\n",
      "[FP], n_samples: 1, dur: 3.25\n",
      "ETDATA----------------------------- 500.0000000000551\n"
     ]
    },
    {
     "name": "stderr",
     "output_type": "stream",
     "text": [
      "\r",
      " 32%|███▏      | 38/120 [03:57<08:36,  6.30s/it]"
     ]
    },
    {
     "name": "stdout",
     "output_type": "stream",
     "text": [
      "\n",
      "\n",
      " 009 009_039_Fixation_Natural_nat014 Tested\n",
      "\n",
      "\n",
      "[FP], n_samples: 1, dur: 3.29\n",
      "ETDATA----------------------------- 500.0000000000551\n"
     ]
    },
    {
     "name": "stderr",
     "output_type": "stream",
     "text": [
      "\r",
      " 32%|███▎      | 39/120 [04:04<08:31,  6.32s/it]"
     ]
    },
    {
     "name": "stdout",
     "output_type": "stream",
     "text": [
      "\n",
      "\n",
      " 009 009_037_FreeViewing_Waldo_wal011 Tested\n",
      "\n",
      "\n",
      "[FP], n_samples: 1, dur: 3.32\n",
      "ETDATA----------------------------- 500.0000000000551\n"
     ]
    },
    {
     "name": "stderr",
     "output_type": "stream",
     "text": [
      "\r",
      " 33%|███▎      | 40/120 [04:10<08:23,  6.30s/it]"
     ]
    },
    {
     "name": "stdout",
     "output_type": "stream",
     "text": [
      "\n",
      "\n",
      " 009 009_040_FreeViewing_Blank_grey Tested\n",
      "\n",
      "\n",
      "[FP], n_samples: 1, dur: 3.25\n",
      "ETDATA----------------------------- 500.0000000000551\n"
     ]
    },
    {
     "name": "stderr",
     "output_type": "stream",
     "text": [
      "\r",
      " 34%|███▍      | 41/120 [04:16<08:15,  6.27s/it]"
     ]
    },
    {
     "name": "stdout",
     "output_type": "stream",
     "text": [
      "\n",
      "\n",
      " 009 009_042_FreeViewing_Natural_nat007 Tested\n",
      "\n",
      "\n",
      "[FP], n_samples: 1, dur: 3.15\n",
      "ETDATA----------------------------- 500.0000000000551\n"
     ]
    },
    {
     "name": "stderr",
     "output_type": "stream",
     "text": [
      "\r",
      " 35%|███▌      | 42/120 [04:22<08:04,  6.21s/it]"
     ]
    },
    {
     "name": "stdout",
     "output_type": "stream",
     "text": [
      "\n",
      "\n",
      " 009 009_041_FreeViewing_Blank_grey Tested\n",
      "\n",
      "\n",
      "[FP], n_samples: 1, dur: 3.29\n",
      "ETDATA----------------------------- 500.0000000000551\n"
     ]
    },
    {
     "name": "stderr",
     "output_type": "stream",
     "text": [
      "\r",
      " 36%|███▌      | 43/120 [04:29<07:58,  6.22s/it]"
     ]
    },
    {
     "name": "stdout",
     "output_type": "stream",
     "text": [
      "\n",
      "\n",
      " 009 009_045_FreeViewing_Natural_nat009 Tested\n",
      "\n",
      "\n",
      "[FP], n_samples: 1, dur: 3.32\n",
      "ETDATA----------------------------- 500.0000000000551\n"
     ]
    },
    {
     "name": "stderr",
     "output_type": "stream",
     "text": [
      "\r",
      " 37%|███▋      | 44/120 [04:35<07:56,  6.27s/it]"
     ]
    },
    {
     "name": "stdout",
     "output_type": "stream",
     "text": [
      "\n",
      "\n",
      " 009 009_047_Fixation_Natural_nat007 Tested\n",
      "\n",
      "\n",
      "[FP], n_samples: 1, dur: 3.28\n",
      "ETDATA----------------------------- 500.0000000000551\n"
     ]
    },
    {
     "name": "stderr",
     "output_type": "stream",
     "text": [
      "\r",
      " 38%|███▊      | 45/120 [04:41<07:48,  6.25s/it]"
     ]
    },
    {
     "name": "stdout",
     "output_type": "stream",
     "text": [
      "\n",
      "\n",
      " 009 009_044_Fixation_Blank_grey Tested\n",
      "\n",
      "\n",
      "[FP], n_samples: 1, dur: 3.24\n",
      "ETDATA----------------------------- 500.0000000000551\n"
     ]
    },
    {
     "name": "stderr",
     "output_type": "stream",
     "text": [
      "\r",
      " 38%|███▊      | 46/120 [04:47<07:40,  6.23s/it]"
     ]
    },
    {
     "name": "stdout",
     "output_type": "stream",
     "text": [
      "\n",
      "\n",
      " 009 009_043_Fixation_Puzzle_puz009 Tested\n",
      "\n",
      "\n",
      "[FP], n_samples: 1, dur: 3.26\n",
      "ETDATA----------------------------- 500.0000000000551\n"
     ]
    },
    {
     "name": "stderr",
     "output_type": "stream",
     "text": [
      "\r",
      " 39%|███▉      | 47/120 [04:54<07:34,  6.23s/it]"
     ]
    },
    {
     "name": "stdout",
     "output_type": "stream",
     "text": [
      "\n",
      "\n",
      " 009 009_048_FreeViewing_Puzzle_puz006 Tested\n",
      "\n",
      "\n",
      "[FP], n_samples: 1, dur: 3.27\n",
      "ETDATA----------------------------- 500.0000000000551\n"
     ]
    },
    {
     "name": "stderr",
     "output_type": "stream",
     "text": [
      "\r",
      " 40%|████      | 48/120 [05:00<07:27,  6.22s/it]"
     ]
    },
    {
     "name": "stdout",
     "output_type": "stream",
     "text": [
      "\n",
      "\n",
      " 009 009_046_FreeViewing_Waldo_wal010 Tested\n",
      "\n",
      "\n",
      "[FP], n_samples: 1, dur: 3.26\n",
      "ETDATA----------------------------- 500.0000000000551\n"
     ]
    },
    {
     "name": "stderr",
     "output_type": "stream",
     "text": [
      "\r",
      " 41%|████      | 49/120 [05:06<07:20,  6.21s/it]"
     ]
    },
    {
     "name": "stdout",
     "output_type": "stream",
     "text": [
      "\n",
      "\n",
      " 009 009_051_FreeViewing_Puzzle_puz008 Tested\n",
      "\n",
      "\n",
      "[FP], n_samples: 1, dur: 3.23\n",
      "ETDATA----------------------------- 500.0000000000551\n"
     ]
    },
    {
     "name": "stderr",
     "output_type": "stream",
     "text": [
      "\r",
      " 42%|████▏     | 50/120 [05:12<07:12,  6.18s/it]"
     ]
    },
    {
     "name": "stdout",
     "output_type": "stream",
     "text": [
      "\n",
      "\n",
      " 009 009_053_Fixation_Blank_grey Tested\n",
      "\n",
      "\n",
      "[FP], n_samples: 1, dur: 3.25\n",
      "ETDATA----------------------------- 500.0000000000551\n"
     ]
    },
    {
     "name": "stderr",
     "output_type": "stream",
     "text": [
      "\r",
      " 42%|████▎     | 51/120 [05:18<07:04,  6.15s/it]"
     ]
    },
    {
     "name": "stdout",
     "output_type": "stream",
     "text": [
      "\n",
      "\n",
      " 009 009_050_FreeViewing_Waldo_wal008 Tested\n",
      "\n",
      "\n",
      "[FP], n_samples: 1, dur: 3.25\n",
      "ETDATA----------------------------- 500.0000000000551\n"
     ]
    },
    {
     "name": "stderr",
     "output_type": "stream",
     "text": [
      "\r",
      " 43%|████▎     | 52/120 [05:24<06:58,  6.15s/it]"
     ]
    },
    {
     "name": "stdout",
     "output_type": "stream",
     "text": [
      "\n",
      "\n",
      " 009 009_049_FreeViewing_Blank_grey Tested\n",
      "\n",
      "\n",
      "[FP], n_samples: 1, dur: 3.24\n",
      "ETDATA----------------------------- 500.0000000000551\n"
     ]
    },
    {
     "name": "stderr",
     "output_type": "stream",
     "text": [
      "\r",
      " 44%|████▍     | 53/120 [05:30<06:52,  6.15s/it]"
     ]
    },
    {
     "name": "stdout",
     "output_type": "stream",
     "text": [
      "\n",
      "\n",
      " 009 009_052_Fixation_Puzzle_puz010 Tested\n",
      "\n",
      "\n",
      "[FP], n_samples: 1, dur: 3.27\n",
      "ETDATA----------------------------- 500.0000000000551\n"
     ]
    },
    {
     "name": "stderr",
     "output_type": "stream",
     "text": [
      "\r",
      " 45%|████▌     | 54/120 [05:37<06:46,  6.16s/it]"
     ]
    },
    {
     "name": "stdout",
     "output_type": "stream",
     "text": [
      "\n",
      "\n",
      " 009 009_054_FreeViewing_Puzzle_puz010 Tested\n",
      "\n",
      "\n",
      "[FP], n_samples: 1, dur: 3.25\n",
      "ETDATA----------------------------- 500.0000000000551\n"
     ]
    },
    {
     "name": "stderr",
     "output_type": "stream",
     "text": [
      "\r",
      " 46%|████▌     | 55/120 [05:43<06:40,  6.16s/it]"
     ]
    },
    {
     "name": "stdout",
     "output_type": "stream",
     "text": [
      "\n",
      "\n",
      " 009 009_059_Fixation_Waldo_wal006 Tested\n",
      "\n",
      "\n",
      "[FP], n_samples: 1, dur: 3.27\n",
      "ETDATA----------------------------- 500.0000000000551\n"
     ]
    },
    {
     "name": "stderr",
     "output_type": "stream",
     "text": [
      "\r",
      " 47%|████▋     | 56/120 [05:49<06:35,  6.18s/it]"
     ]
    },
    {
     "name": "stdout",
     "output_type": "stream",
     "text": [
      "\n",
      "\n",
      " 009 009_060_FreeViewing_Waldo_wal006 Tested\n",
      "\n",
      "\n",
      "[FP], n_samples: 1, dur: 3.25\n",
      "ETDATA----------------------------- 500.0000000000551\n"
     ]
    },
    {
     "name": "stderr",
     "output_type": "stream",
     "text": [
      "\r",
      " 48%|████▊     | 57/120 [05:55<06:29,  6.18s/it]"
     ]
    },
    {
     "name": "stdout",
     "output_type": "stream",
     "text": [
      "\n",
      "\n",
      " 009 009_056_Fixation_Natural_nat010 Tested\n",
      "\n",
      "\n",
      "[FP], n_samples: 1, dur: 3.25\n",
      "ETDATA----------------------------- 500.0000000000551\n"
     ]
    },
    {
     "name": "stderr",
     "output_type": "stream",
     "text": [
      "\r",
      " 48%|████▊     | 58/120 [06:01<06:22,  6.17s/it]"
     ]
    },
    {
     "name": "stdout",
     "output_type": "stream",
     "text": [
      "\n",
      "\n",
      " 009 009_055_Fixation_Waldo_wal010 Tested\n",
      "\n",
      "\n",
      "[FP], n_samples: 1, dur: 3.26\n",
      "ETDATA----------------------------- 500.0000000000551\n"
     ]
    },
    {
     "name": "stderr",
     "output_type": "stream",
     "text": [
      "\r",
      " 49%|████▉     | 59/120 [06:08<06:17,  6.19s/it]"
     ]
    },
    {
     "name": "stdout",
     "output_type": "stream",
     "text": [
      "\n",
      "\n",
      " 009 009_058_FreeViewing_Blank_grey Tested\n",
      "\n",
      "\n",
      "[FP], n_samples: 1, dur: 3.21\n",
      "ETDATA----------------------------- 500.0000000000551\n"
     ]
    },
    {
     "name": "stderr",
     "output_type": "stream",
     "text": [
      "\r",
      " 50%|█████     | 60/120 [06:14<06:11,  6.19s/it]"
     ]
    },
    {
     "name": "stdout",
     "output_type": "stream",
     "text": [
      "\n",
      "\n",
      " 009 009_057_Fixation_Blank_grey Tested\n",
      "\n",
      "\n",
      "[FP], n_samples: 1, dur: 3.24\n",
      "ETDATA----------------------------- 500.0000000000551\n"
     ]
    },
    {
     "name": "stderr",
     "output_type": "stream",
     "text": [
      "\r",
      " 51%|█████     | 61/120 [06:20<06:04,  6.18s/it]"
     ]
    },
    {
     "name": "stdout",
     "output_type": "stream",
     "text": [
      "\n",
      "\n",
      " 009 009_065_FreeViewing_Puzzle_puz007 Tested\n",
      "\n",
      "\n",
      "[FP], n_samples: 1, dur: 3.21\n",
      "ETDATA----------------------------- 500.0000000000551\n"
     ]
    },
    {
     "name": "stderr",
     "output_type": "stream",
     "text": [
      "\r",
      " 52%|█████▏    | 62/120 [06:26<05:56,  6.14s/it]"
     ]
    },
    {
     "name": "stdout",
     "output_type": "stream",
     "text": [
      "\n",
      "\n",
      " 009 009_062_Fixation_Natural_nat008 Tested\n",
      "\n",
      "\n",
      "[FP], n_samples: 1, dur: 3.27\n",
      "ETDATA----------------------------- 500.0000000000551\n"
     ]
    },
    {
     "name": "stderr",
     "output_type": "stream",
     "text": [
      "\r",
      " 52%|█████▎    | 63/120 [06:32<05:50,  6.14s/it]"
     ]
    },
    {
     "name": "stdout",
     "output_type": "stream",
     "text": [
      "\n",
      "\n",
      " 009 009_066_FreeViewing_Blank_grey Tested\n",
      "\n",
      "\n",
      "[FP], n_samples: 1, dur: 3.22\n",
      "ETDATA----------------------------- 500.0000000000551\n"
     ]
    },
    {
     "name": "stderr",
     "output_type": "stream",
     "text": [
      "\r",
      " 53%|█████▎    | 64/120 [06:38<05:42,  6.12s/it]"
     ]
    },
    {
     "name": "stdout",
     "output_type": "stream",
     "text": [
      "\n",
      "\n",
      " 009 009_064_FreeViewing_Puzzle_puz009 Tested\n",
      "\n",
      "\n",
      "[FP], n_samples: 1, dur: 3.21\n",
      "ETDATA----------------------------- 500.0000000000551\n"
     ]
    },
    {
     "name": "stderr",
     "output_type": "stream",
     "text": [
      "\r",
      " 54%|█████▍    | 65/120 [06:44<05:37,  6.13s/it]"
     ]
    },
    {
     "name": "stdout",
     "output_type": "stream",
     "text": [
      "\n",
      "\n",
      " 009 009_061_Fixation_Puzzle_puz006 Tested\n",
      "\n",
      "\n",
      "[FP], n_samples: 1, dur: 3.23\n",
      "ETDATA----------------------------- 500.0000000000551\n"
     ]
    },
    {
     "name": "stderr",
     "output_type": "stream",
     "text": [
      "\r",
      " 55%|█████▌    | 66/120 [06:51<05:33,  6.17s/it]"
     ]
    },
    {
     "name": "stdout",
     "output_type": "stream",
     "text": [
      "\n",
      "\n",
      " 009 009_063_FreeViewing_Natural_nat006 Tested\n",
      "\n",
      "\n",
      "[FP], n_samples: 1, dur: 3.22\n",
      "ETDATA----------------------------- 500.0000000000551\n"
     ]
    },
    {
     "name": "stderr",
     "output_type": "stream",
     "text": [
      "\r",
      " 56%|█████▌    | 67/120 [06:57<05:27,  6.18s/it]"
     ]
    },
    {
     "name": "stdout",
     "output_type": "stream",
     "text": [
      "\n",
      "\n",
      " 009 009_069_FreeViewing_Natural_nat010 Tested\n",
      "\n",
      "\n",
      "[FP], n_samples: 1, dur: 3.21\n",
      "ETDATA----------------------------- 500.0000000000551\n"
     ]
    },
    {
     "name": "stderr",
     "output_type": "stream",
     "text": [
      "\r",
      " 57%|█████▋    | 68/120 [07:03<05:20,  6.17s/it]"
     ]
    },
    {
     "name": "stdout",
     "output_type": "stream",
     "text": [
      "\n",
      "\n",
      " 009 009_070_FreeViewing_Waldo_wal007 Tested\n",
      "\n",
      "\n",
      "[FP], n_samples: 1, dur: 3.22\n",
      "ETDATA----------------------------- 500.0000000000551\n"
     ]
    },
    {
     "name": "stderr",
     "output_type": "stream",
     "text": [
      "\r",
      " 57%|█████▊    | 69/120 [07:09<05:14,  6.16s/it]"
     ]
    },
    {
     "name": "stdout",
     "output_type": "stream",
     "text": [
      "\n",
      "\n",
      " 009 009_068_Fixation_Puzzle_puz008 Tested\n",
      "\n",
      "\n",
      "[FP], n_samples: 1, dur: 3.27\n",
      "ETDATA----------------------------- 500.0000000000551\n"
     ]
    },
    {
     "name": "stderr",
     "output_type": "stream",
     "text": [
      "\r",
      " 58%|█████▊    | 70/120 [07:15<05:08,  6.17s/it]"
     ]
    },
    {
     "name": "stdout",
     "output_type": "stream",
     "text": [
      "\n",
      "\n",
      " 009 009_072_FreeViewing_Waldo_wal009 Tested\n",
      "\n",
      "\n",
      "[FP], n_samples: 1, dur: 3.19\n",
      "ETDATA----------------------------- 500.0000000000551\n"
     ]
    },
    {
     "name": "stderr",
     "output_type": "stream",
     "text": [
      "\r",
      " 59%|█████▉    | 71/120 [07:21<05:00,  6.14s/it]"
     ]
    },
    {
     "name": "stdout",
     "output_type": "stream",
     "text": [
      "\n",
      "\n",
      " 009 009_071_FreeViewing_Natural_nat008 Tested\n",
      "\n",
      "\n",
      "[FP], n_samples: 1, dur: 3.19\n",
      "ETDATA----------------------------- 500.0000000000551\n"
     ]
    },
    {
     "name": "stderr",
     "output_type": "stream",
     "text": [
      "\r",
      " 60%|██████    | 72/120 [07:27<04:54,  6.13s/it]"
     ]
    },
    {
     "name": "stdout",
     "output_type": "stream",
     "text": [
      "\n",
      "\n",
      " 009 009_067_Fixation_Waldo_wal008 Tested\n",
      "\n",
      "\n",
      "[FP], n_samples: 1, dur: 3.24\n",
      "ETDATA----------------------------- 500.0000000000551\n"
     ]
    },
    {
     "name": "stderr",
     "output_type": "stream",
     "text": [
      "\r",
      " 61%|██████    | 73/120 [07:34<04:48,  6.14s/it]"
     ]
    },
    {
     "name": "stdout",
     "output_type": "stream",
     "text": [
      "\n",
      "\n",
      " 009 009_077_Fixation_Natural_nat009 Tested\n",
      "\n",
      "\n",
      "[FP], n_samples: 1, dur: 3.19\n",
      "ETDATA----------------------------- 500.0000000000551\n"
     ]
    },
    {
     "name": "stderr",
     "output_type": "stream",
     "text": [
      "\r",
      " 62%|██████▏   | 74/120 [07:40<04:40,  6.11s/it]"
     ]
    },
    {
     "name": "stdout",
     "output_type": "stream",
     "text": [
      "\n",
      "\n",
      " 009 009_073_Fixation_Blank_grey Tested\n",
      "\n",
      "\n",
      "[FP], n_samples: 1, dur: 3.22\n",
      "ETDATA----------------------------- 500.0000000000551\n"
     ]
    },
    {
     "name": "stderr",
     "output_type": "stream",
     "text": [
      "\r",
      " 62%|██████▎   | 75/120 [07:46<04:35,  6.12s/it]"
     ]
    },
    {
     "name": "stdout",
     "output_type": "stream",
     "text": [
      "\n",
      "\n",
      " 009 009_078_Fixation_Blank_grey Tested\n",
      "\n",
      "\n",
      "[FP], n_samples: 1, dur: 3.24\n",
      "ETDATA----------------------------- 500.0000000000551\n"
     ]
    },
    {
     "name": "stderr",
     "output_type": "stream",
     "text": [
      "\r",
      " 63%|██████▎   | 76/120 [07:52<04:29,  6.13s/it]"
     ]
    },
    {
     "name": "stdout",
     "output_type": "stream",
     "text": [
      "\n",
      "\n",
      " 009 009_074_Fixation_Natural_nat006 Tested\n",
      "\n",
      "\n",
      "[FP], n_samples: 1, dur: 3.73\n",
      "ETDATA----------------------------- 500.0000000000551\n"
     ]
    },
    {
     "name": "stderr",
     "output_type": "stream",
     "text": [
      "\r",
      " 64%|██████▍   | 77/120 [07:59<04:31,  6.31s/it]"
     ]
    },
    {
     "name": "stdout",
     "output_type": "stream",
     "text": [
      "\n",
      "\n",
      " 009 009_075_Fixation_Waldo_wal007 Tested\n",
      "\n",
      "\n",
      "[FP], n_samples: 1, dur: 3.26\n",
      "ETDATA----------------------------- 500.0000000000551\n"
     ]
    },
    {
     "name": "stderr",
     "output_type": "stream",
     "text": [
      "\r",
      " 65%|██████▌   | 78/120 [08:05<04:24,  6.29s/it]"
     ]
    },
    {
     "name": "stdout",
     "output_type": "stream",
     "text": [
      "\n",
      "\n",
      " 009 009_076_Fixation_Waldo_wal009 Tested\n",
      "\n",
      "\n",
      "[FP], n_samples: 1, dur: 3.26\n",
      "ETDATA----------------------------- 500.0000000000551\n"
     ]
    },
    {
     "name": "stderr",
     "output_type": "stream",
     "text": [
      "\r",
      " 66%|██████▌   | 79/120 [08:11<04:16,  6.26s/it]"
     ]
    },
    {
     "name": "stdout",
     "output_type": "stream",
     "text": [
      "\n",
      "\n",
      " 009 009_083_Fixation_Natural_nat004 Tested\n",
      "\n",
      "\n",
      "[FP], n_samples: 1, dur: 3.24\n",
      "ETDATA----------------------------- 500.0000000000551\n"
     ]
    },
    {
     "name": "stderr",
     "output_type": "stream",
     "text": [
      "\r",
      " 67%|██████▋   | 80/120 [08:17<04:09,  6.23s/it]"
     ]
    },
    {
     "name": "stdout",
     "output_type": "stream",
     "text": [
      "\n",
      "\n",
      " 009 009_082_Fixation_Natural_nat002 Tested\n",
      "\n",
      "\n",
      "[FP], n_samples: 1, dur: 3.24\n",
      "ETDATA----------------------------- 500.0000000000551\n"
     ]
    },
    {
     "name": "stderr",
     "output_type": "stream",
     "text": [
      "\r",
      " 68%|██████▊   | 81/120 [08:23<04:01,  6.19s/it]"
     ]
    },
    {
     "name": "stdout",
     "output_type": "stream",
     "text": [
      "\n",
      "\n",
      " 009 009_084_Fixation_Puzzle_puz004 Tested\n",
      "\n",
      "\n",
      "[FP], n_samples: 1, dur: 3.22\n",
      "ETDATA----------------------------- 500.0000000000551\n"
     ]
    },
    {
     "name": "stderr",
     "output_type": "stream",
     "text": [
      "\r",
      " 68%|██████▊   | 82/120 [08:29<03:54,  6.17s/it]"
     ]
    },
    {
     "name": "stdout",
     "output_type": "stream",
     "text": [
      "\n",
      "\n",
      " 009 009_079_Fixation_Puzzle_puz007 Tested\n",
      "\n",
      "\n",
      "[FP], n_samples: 1, dur: 3.22\n",
      "ETDATA----------------------------- 500.0000000000551\n"
     ]
    },
    {
     "name": "stderr",
     "output_type": "stream",
     "text": [
      "\r",
      " 69%|██████▉   | 83/120 [08:36<03:47,  6.15s/it]"
     ]
    },
    {
     "name": "stdout",
     "output_type": "stream",
     "text": [
      "\n",
      "\n",
      " 009 009_080_FreeViewing_Blank_grey Tested\n",
      "\n",
      "\n",
      "[FP], n_samples: 1, dur: 3.19\n",
      "ETDATA----------------------------- 500.0000000000551\n"
     ]
    },
    {
     "name": "stderr",
     "output_type": "stream",
     "text": [
      "\r",
      " 70%|███████   | 84/120 [08:42<03:40,  6.13s/it]"
     ]
    },
    {
     "name": "stdout",
     "output_type": "stream",
     "text": [
      "\n",
      "\n",
      " 009 009_081_FreeViewing_Blank_grey Tested\n",
      "\n",
      "\n",
      "[FP], n_samples: 1, dur: 3.21\n",
      "ETDATA----------------------------- 500.0000000000551\n"
     ]
    },
    {
     "name": "stderr",
     "output_type": "stream",
     "text": [
      "\r",
      " 71%|███████   | 85/120 [08:48<03:34,  6.14s/it]"
     ]
    },
    {
     "name": "stdout",
     "output_type": "stream",
     "text": [
      "\n",
      "\n",
      " 009 009_085_FreeViewing_Blank_grey Tested\n",
      "\n",
      "\n",
      "[FP], n_samples: 1, dur: 3.27\n",
      "ETDATA----------------------------- 500.0000000000551\n"
     ]
    },
    {
     "name": "stderr",
     "output_type": "stream",
     "text": [
      "\r",
      " 72%|███████▏  | 86/120 [08:54<03:28,  6.12s/it]"
     ]
    },
    {
     "name": "stdout",
     "output_type": "stream",
     "text": [
      "\n",
      "\n",
      " 009 009_091_Fixation_Waldo_wal002 Tested\n",
      "\n",
      "\n",
      "[FP], n_samples: 1, dur: 3.21\n",
      "ETDATA----------------------------- 500.0000000000551\n"
     ]
    },
    {
     "name": "stderr",
     "output_type": "stream",
     "text": [
      "\r",
      " 72%|███████▎  | 87/120 [09:00<03:21,  6.12s/it]"
     ]
    },
    {
     "name": "stdout",
     "output_type": "stream",
     "text": [
      "\n",
      "\n",
      " 009 009_088_FreeViewing_Natural_nat003 Tested\n",
      "\n",
      "\n",
      "[FP], n_samples: 1, dur: 3.26\n",
      "ETDATA----------------------------- 500.0000000000551\n"
     ]
    },
    {
     "name": "stderr",
     "output_type": "stream",
     "text": [
      "\r",
      " 73%|███████▎  | 88/120 [09:06<03:15,  6.12s/it]"
     ]
    },
    {
     "name": "stdout",
     "output_type": "stream",
     "text": [
      "\n",
      "\n",
      " 009 009_090_Fixation_Waldo_wal004 Tested\n",
      "\n",
      "\n",
      "[FP], n_samples: 1, dur: 3.24\n",
      "ETDATA----------------------------- 500.0000000000551\n"
     ]
    },
    {
     "name": "stderr",
     "output_type": "stream",
     "text": [
      "\r",
      " 74%|███████▍  | 89/120 [09:12<03:10,  6.16s/it]"
     ]
    },
    {
     "name": "stdout",
     "output_type": "stream",
     "text": [
      "\n",
      "\n",
      " 009 009_086_Fixation_Puzzle_puz005 Tested\n",
      "\n",
      "\n",
      "[FP], n_samples: 1, dur: 3.28\n",
      "ETDATA----------------------------- 500.0000000000551\n"
     ]
    },
    {
     "name": "stderr",
     "output_type": "stream",
     "text": [
      "\r",
      " 75%|███████▌  | 90/120 [09:19<03:05,  6.17s/it]"
     ]
    },
    {
     "name": "stdout",
     "output_type": "stream",
     "text": [
      "\n",
      "\n",
      " 009 009_089_FreeViewing_Puzzle_puz004 Tested\n",
      "\n",
      "\n",
      "[FP], n_samples: 1, dur: 3.21\n",
      "ETDATA----------------------------- 500.0000000000551\n"
     ]
    },
    {
     "name": "stderr",
     "output_type": "stream",
     "text": [
      "\r",
      " 76%|███████▌  | 91/120 [09:25<02:58,  6.16s/it]"
     ]
    },
    {
     "name": "stdout",
     "output_type": "stream",
     "text": [
      "\n",
      "\n",
      " 009 009_087_FreeViewing_Waldo_wal003 Tested\n",
      "\n",
      "\n",
      "[FP], n_samples: 1, dur: 3.20\n",
      "ETDATA----------------------------- 500.0000000000551\n"
     ]
    },
    {
     "name": "stderr",
     "output_type": "stream",
     "text": [
      "\r",
      " 77%|███████▋  | 92/120 [09:31<02:51,  6.13s/it]"
     ]
    },
    {
     "name": "stdout",
     "output_type": "stream",
     "text": [
      "\n",
      "\n",
      " 009 009_092_FreeViewing_Puzzle_puz001 Tested\n",
      "\n",
      "\n",
      "[FP], n_samples: 1, dur: 3.27\n",
      "ETDATA----------------------------- 500.0000000000551\n"
     ]
    },
    {
     "name": "stderr",
     "output_type": "stream",
     "text": [
      "\r",
      " 78%|███████▊  | 93/120 [09:37<02:45,  6.14s/it]"
     ]
    },
    {
     "name": "stdout",
     "output_type": "stream",
     "text": [
      "\n",
      "\n",
      " 009 009_093_FreeViewing_Blank_grey Tested\n",
      "\n",
      "\n",
      "[FP], n_samples: 1, dur: 3.22\n",
      "ETDATA----------------------------- 500.0000000000551\n"
     ]
    },
    {
     "name": "stderr",
     "output_type": "stream",
     "text": [
      "\r",
      " 78%|███████▊  | 94/120 [09:43<02:39,  6.13s/it]"
     ]
    },
    {
     "name": "stdout",
     "output_type": "stream",
     "text": [
      "\n",
      "\n",
      " 009 009_094_Fixation_Natural_nat005 Tested\n",
      "\n",
      "\n",
      "[FP], n_samples: 1, dur: 3.21\n",
      "ETDATA----------------------------- 500.0000000000551\n"
     ]
    },
    {
     "name": "stderr",
     "output_type": "stream",
     "text": [
      "\r",
      " 79%|███████▉  | 95/120 [09:49<02:32,  6.11s/it]"
     ]
    },
    {
     "name": "stdout",
     "output_type": "stream",
     "text": [
      "\n",
      "\n",
      " 009 009_095_Fixation_Puzzle_puz003 Tested\n",
      "\n",
      "\n",
      "[FP], n_samples: 1, dur: 3.27\n",
      "ETDATA----------------------------- 500.0000000000551\n"
     ]
    },
    {
     "name": "stderr",
     "output_type": "stream",
     "text": [
      "\r",
      " 80%|████████  | 96/120 [09:55<02:27,  6.15s/it]"
     ]
    },
    {
     "name": "stdout",
     "output_type": "stream",
     "text": [
      "\n",
      "\n",
      " 009 009_101_FreeViewing_Puzzle_puz003 Tested\n",
      "\n",
      "\n",
      "[FP], n_samples: 1, dur: 3.23\n",
      "ETDATA----------------------------- 500.0000000000551\n"
     ]
    },
    {
     "name": "stderr",
     "output_type": "stream",
     "text": [
      "\r",
      " 81%|████████  | 97/120 [10:01<02:21,  6.14s/it]"
     ]
    },
    {
     "name": "stdout",
     "output_type": "stream",
     "text": [
      "\n",
      "\n",
      " 009 009_096_Fixation_Natural_nat003 Tested\n",
      "\n",
      "\n",
      "[FP], n_samples: 1, dur: 3.23\n",
      "ETDATA----------------------------- 500.0000000000551\n"
     ]
    },
    {
     "name": "stderr",
     "output_type": "stream",
     "text": [
      "\r",
      " 82%|████████▏ | 98/120 [10:08<02:15,  6.14s/it]"
     ]
    },
    {
     "name": "stdout",
     "output_type": "stream",
     "text": [
      "\n",
      "\n",
      " 009 009_099_FreeViewing_Natural_nat002 Tested\n",
      "\n",
      "\n",
      "[FP], n_samples: 1, dur: 3.26\n",
      "ETDATA----------------------------- 500.0000000000551\n"
     ]
    },
    {
     "name": "stderr",
     "output_type": "stream",
     "text": [
      "\r",
      " 82%|████████▎ | 99/120 [10:14<02:08,  6.14s/it]"
     ]
    },
    {
     "name": "stdout",
     "output_type": "stream",
     "text": [
      "\n",
      "\n",
      " 009 009_097_Fixation_Puzzle_puz001 Tested\n",
      "\n",
      "\n",
      "[FP], n_samples: 1, dur: 3.27\n",
      "ETDATA----------------------------- 500.0000000000551\n"
     ]
    },
    {
     "name": "stderr",
     "output_type": "stream",
     "text": [
      "\r",
      " 83%|████████▎ | 100/120 [10:20<02:02,  6.15s/it]"
     ]
    },
    {
     "name": "stdout",
     "output_type": "stream",
     "text": [
      "\n",
      "\n",
      " 009 009_100_FreeViewing_Natural_nat001 Tested\n",
      "\n",
      "\n",
      "[FP], n_samples: 1, dur: 3.24\n",
      "ETDATA----------------------------- 500.0000000000551\n"
     ]
    },
    {
     "name": "stderr",
     "output_type": "stream",
     "text": [
      "\r",
      " 84%|████████▍ | 101/120 [10:26<01:56,  6.14s/it]"
     ]
    },
    {
     "name": "stdout",
     "output_type": "stream",
     "text": [
      "\n",
      "\n",
      " 009 009_098_FreeViewing_Waldo_wal001 Tested\n",
      "\n",
      "\n",
      "[FP], n_samples: 1, dur: 3.21\n",
      "ETDATA----------------------------- 500.0000000000551\n"
     ]
    },
    {
     "name": "stderr",
     "output_type": "stream",
     "text": [
      "\r",
      " 85%|████████▌ | 102/120 [10:32<01:50,  6.14s/it]"
     ]
    },
    {
     "name": "stdout",
     "output_type": "stream",
     "text": [
      "\n",
      "\n",
      " 009 009_102_FreeViewing_Natural_nat004 Tested\n",
      "\n",
      "\n",
      "[FP], n_samples: 1, dur: 3.26\n",
      "ETDATA----------------------------- 500.0000000000551\n"
     ]
    },
    {
     "name": "stderr",
     "output_type": "stream",
     "text": [
      "\r",
      " 86%|████████▌ | 103/120 [10:38<01:44,  6.15s/it]"
     ]
    },
    {
     "name": "stdout",
     "output_type": "stream",
     "text": [
      "\n",
      "\n",
      " 009 009_107_FreeViewing_Puzzle_puz002 Tested\n",
      "\n",
      "\n",
      "[FP], n_samples: 1, dur: 3.26\n",
      "ETDATA----------------------------- 500.0000000000551\n"
     ]
    },
    {
     "name": "stderr",
     "output_type": "stream",
     "text": [
      "\r",
      " 87%|████████▋ | 104/120 [10:45<01:38,  6.16s/it]"
     ]
    },
    {
     "name": "stdout",
     "output_type": "stream",
     "text": [
      "\n",
      "\n",
      " 009 009_103_Fixation_Waldo_wal005 Tested\n",
      "\n",
      "\n",
      "[FP], n_samples: 1, dur: 3.23\n",
      "ETDATA----------------------------- 500.0000000000551\n"
     ]
    },
    {
     "name": "stderr",
     "output_type": "stream",
     "text": [
      "\r",
      " 88%|████████▊ | 105/120 [10:51<01:32,  6.14s/it]"
     ]
    },
    {
     "name": "stdout",
     "output_type": "stream",
     "text": [
      "\n",
      "\n",
      " 009 009_104_Fixation_Natural_nat001 Tested\n",
      "\n",
      "\n",
      "[FP], n_samples: 1, dur: 3.23\n",
      "ETDATA----------------------------- 500.0000000000551\n"
     ]
    },
    {
     "name": "stderr",
     "output_type": "stream",
     "text": [
      "\r",
      " 88%|████████▊ | 106/120 [10:57<01:26,  6.16s/it]"
     ]
    },
    {
     "name": "stdout",
     "output_type": "stream",
     "text": [
      "\n",
      "\n",
      " 009 009_105_FreeViewing_Blank_grey Tested\n",
      "\n",
      "\n",
      "[FP], n_samples: 1, dur: 3.20\n",
      "ETDATA----------------------------- 500.0000000000551\n"
     ]
    },
    {
     "name": "stderr",
     "output_type": "stream",
     "text": [
      "\r",
      " 89%|████████▉ | 107/120 [11:03<01:19,  6.13s/it]"
     ]
    },
    {
     "name": "stdout",
     "output_type": "stream",
     "text": [
      "\n",
      "\n",
      " 009 009_106_FreeViewing_Waldo_wal002 Tested\n",
      "\n",
      "\n",
      "[FP], n_samples: 1, dur: 3.22\n",
      "ETDATA----------------------------- 500.0000000000551\n"
     ]
    },
    {
     "name": "stderr",
     "output_type": "stream",
     "text": [
      "\r",
      " 90%|█████████ | 108/120 [11:09<01:13,  6.13s/it]"
     ]
    },
    {
     "name": "stdout",
     "output_type": "stream",
     "text": [
      "\n",
      "\n",
      " 009 009_109_Fixation_Blank_grey Tested\n",
      "\n",
      "\n",
      "[FP], n_samples: 1, dur: 3.25\n",
      "ETDATA----------------------------- 500.0000000000551\n"
     ]
    },
    {
     "name": "stderr",
     "output_type": "stream",
     "text": [
      "\r",
      " 91%|█████████ | 109/120 [11:15<01:07,  6.14s/it]"
     ]
    },
    {
     "name": "stdout",
     "output_type": "stream",
     "text": [
      "\n",
      "\n",
      " 009 009_112_FreeViewing_Blank_grey Tested\n",
      "\n",
      "\n",
      "[FP], n_samples: 1, dur: 3.22\n",
      "ETDATA----------------------------- 500.0000000000551\n"
     ]
    },
    {
     "name": "stderr",
     "output_type": "stream",
     "text": [
      "\r",
      " 92%|█████████▏| 110/120 [11:21<01:01,  6.14s/it]"
     ]
    },
    {
     "name": "stdout",
     "output_type": "stream",
     "text": [
      "\n",
      "\n",
      " 009 009_108_FreeViewing_Natural_nat005 Tested\n",
      "\n",
      "\n",
      "[FP], n_samples: 1, dur: 3.21\n",
      "ETDATA----------------------------- 500.0000000000551\n"
     ]
    },
    {
     "name": "stderr",
     "output_type": "stream",
     "text": [
      "\r",
      " 92%|█████████▎| 111/120 [11:27<00:55,  6.12s/it]"
     ]
    },
    {
     "name": "stdout",
     "output_type": "stream",
     "text": [
      "\n",
      "\n",
      " 009 009_113_Fixation_Waldo_wal001 Tested\n",
      "\n",
      "\n",
      "[FP], n_samples: 1, dur: 3.20\n",
      "ETDATA----------------------------- 500.0000000000551\n"
     ]
    },
    {
     "name": "stderr",
     "output_type": "stream",
     "text": [
      "\r",
      " 93%|█████████▎| 112/120 [11:33<00:48,  6.10s/it]"
     ]
    },
    {
     "name": "stdout",
     "output_type": "stream",
     "text": [
      "\n",
      "\n",
      " 009 009_110_FreeViewing_Waldo_wal005 Tested\n",
      "\n",
      "\n",
      "[FP], n_samples: 1, dur: 3.20\n",
      "ETDATA----------------------------- 500.0000000000551\n"
     ]
    },
    {
     "name": "stderr",
     "output_type": "stream",
     "text": [
      "\r",
      " 94%|█████████▍| 113/120 [11:40<00:42,  6.11s/it]"
     ]
    },
    {
     "name": "stdout",
     "output_type": "stream",
     "text": [
      "\n",
      "\n",
      " 009 009_111_Fixation_Waldo_wal003 Tested\n",
      "\n",
      "\n",
      "[FP], n_samples: 1, dur: 3.22\n",
      "ETDATA----------------------------- 500.0000000000551\n"
     ]
    },
    {
     "name": "stderr",
     "output_type": "stream",
     "text": [
      "\r",
      " 95%|█████████▌| 114/120 [11:46<00:37,  6.20s/it]"
     ]
    },
    {
     "name": "stdout",
     "output_type": "stream",
     "text": [
      "\n",
      "\n",
      " 009 009_114_FreeViewing_Waldo_wal004 Tested\n",
      "\n",
      "\n",
      "[FP], n_samples: 1, dur: 3.23\n",
      "ETDATA----------------------------- 500.0000000000551\n"
     ]
    },
    {
     "name": "stderr",
     "output_type": "stream",
     "text": [
      "\r",
      " 96%|█████████▌| 115/120 [11:52<00:30,  6.20s/it]"
     ]
    },
    {
     "name": "stdout",
     "output_type": "stream",
     "text": [
      "\n",
      "\n",
      " 009 009_119_Fixation_Blank_grey Tested\n",
      "\n",
      "\n",
      "[FP], n_samples: 1, dur: 3.22\n",
      "ETDATA----------------------------- 500.0000000000551\n"
     ]
    },
    {
     "name": "stderr",
     "output_type": "stream",
     "text": [
      "\r",
      " 97%|█████████▋| 116/120 [11:58<00:24,  6.20s/it]"
     ]
    },
    {
     "name": "stdout",
     "output_type": "stream",
     "text": [
      "\n",
      "\n",
      " 009 009_117_Fixation_Puzzle_puz002 Tested\n",
      "\n",
      "\n",
      "[FP], n_samples: 1, dur: 3.20\n",
      "ETDATA----------------------------- 500.0000000000551\n"
     ]
    },
    {
     "name": "stderr",
     "output_type": "stream",
     "text": [
      "\r",
      " 98%|█████████▊| 117/120 [12:05<00:18,  6.19s/it]"
     ]
    },
    {
     "name": "stdout",
     "output_type": "stream",
     "text": [
      "\n",
      "\n",
      " 009 009_116_Fixation_Blank_grey Tested\n",
      "\n",
      "\n",
      "[FP], n_samples: 1, dur: 3.19\n",
      "ETDATA----------------------------- 500.0000000000551\n"
     ]
    },
    {
     "name": "stderr",
     "output_type": "stream",
     "text": [
      "\r",
      " 98%|█████████▊| 118/120 [12:11<00:12,  6.16s/it]"
     ]
    },
    {
     "name": "stdout",
     "output_type": "stream",
     "text": [
      "\n",
      "\n",
      " 009 009_118_FreeViewing_Puzzle_puz005 Tested\n",
      "\n",
      "\n",
      "[FP], n_samples: 1, dur: 3.24\n",
      "ETDATA----------------------------- 500.0000000000551\n"
     ]
    },
    {
     "name": "stderr",
     "output_type": "stream",
     "text": [
      "\r",
      " 99%|█████████▉| 119/120 [12:17<00:06,  6.18s/it]"
     ]
    },
    {
     "name": "stdout",
     "output_type": "stream",
     "text": [
      "\n",
      "\n",
      " 009 009_115_Fixation_Blank_grey Tested\n",
      "\n",
      "\n",
      "[FP], n_samples: 1, dur: 3.23\n",
      "ETDATA----------------------------- 500.0000000000551\n"
     ]
    },
    {
     "name": "stderr",
     "output_type": "stream",
     "text": [
      "100%|██████████| 120/120 [12:23<00:00,  6.20s/it]\n",
      "  0%|          | 0/120 [00:00<?, ?it/s]"
     ]
    },
    {
     "name": "stdout",
     "output_type": "stream",
     "text": [
      "\n",
      "\n",
      " 009 009_120_Fixation_Blank_grey Tested\n",
      "\n",
      "\n",
      "[FP], n_samples: 1, dur: 3.22\n",
      "ETDATA----------------------------- 500.0000000000551\n"
     ]
    },
    {
     "name": "stderr",
     "output_type": "stream",
     "text": [
      "\r",
      "  1%|          | 1/120 [00:06<13:13,  6.67s/it]"
     ]
    },
    {
     "name": "stdout",
     "output_type": "stream",
     "text": [
      "\n",
      "\n",
      " 059 059_001_FreeViewing_Natural_nat009 Tested\n",
      "\n",
      "\n",
      "[FP], n_samples: 1, dur: 3.21\n",
      "ETDATA----------------------------- 500.0000000000551\n"
     ]
    },
    {
     "name": "stderr",
     "output_type": "stream",
     "text": [
      "\r",
      "  2%|▏         | 2/120 [00:12<12:47,  6.51s/it]"
     ]
    },
    {
     "name": "stdout",
     "output_type": "stream",
     "text": [
      "\n",
      "\n",
      " 059 059_002_Fixation_Natural_nat007 Tested\n",
      "\n",
      "\n",
      "[FP], n_samples: 1, dur: 3.19\n",
      "ETDATA----------------------------- 500.0000000000551\n"
     ]
    },
    {
     "name": "stderr",
     "output_type": "stream",
     "text": [
      "\r",
      "  2%|▎         | 3/120 [00:18<12:29,  6.40s/it]"
     ]
    },
    {
     "name": "stdout",
     "output_type": "stream",
     "text": [
      "\n",
      "\n",
      " 059 059_003_FreeViewing_Puzzle_puz008 Tested\n",
      "\n",
      "\n",
      "[FP], n_samples: 1, dur: 3.22\n",
      "ETDATA----------------------------- 500.0000000000551\n"
     ]
    },
    {
     "name": "stderr",
     "output_type": "stream",
     "text": [
      "\r",
      "  3%|▎         | 4/120 [00:25<12:12,  6.31s/it]"
     ]
    },
    {
     "name": "stdout",
     "output_type": "stream",
     "text": [
      "\n",
      "\n",
      " 059 059_004_Fixation_Natural_nat008 Tested\n",
      "\n",
      "\n",
      "[FP], n_samples: 1, dur: 3.23\n",
      "ETDATA----------------------------- 500.0000000000551\n"
     ]
    },
    {
     "name": "stderr",
     "output_type": "stream",
     "text": [
      "\r",
      "  4%|▍         | 5/120 [00:31<12:00,  6.26s/it]"
     ]
    },
    {
     "name": "stdout",
     "output_type": "stream",
     "text": [
      "\n",
      "\n",
      " 059 059_007_FreeViewing_Blank_grey Tested\n",
      "\n",
      "\n",
      "[FP], n_samples: 1, dur: 3.23\n",
      "ETDATA----------------------------- 500.0000000000551\n"
     ]
    },
    {
     "name": "stderr",
     "output_type": "stream",
     "text": [
      "\r",
      "  5%|▌         | 6/120 [00:37<11:48,  6.21s/it]"
     ]
    },
    {
     "name": "stdout",
     "output_type": "stream",
     "text": [
      "\n",
      "\n",
      " 059 059_009_FreeViewing_Natural_nat006 Tested\n",
      "\n",
      "\n",
      "[FP], n_samples: 1, dur: 3.22\n",
      "ETDATA----------------------------- 500.0000000000551\n"
     ]
    },
    {
     "name": "stderr",
     "output_type": "stream",
     "text": [
      "\r",
      "  6%|▌         | 7/120 [00:43<11:39,  6.19s/it]"
     ]
    },
    {
     "name": "stdout",
     "output_type": "stream",
     "text": [
      "\n",
      "\n",
      " 059 059_006_FreeViewing_Puzzle_puz006 Tested\n",
      "\n",
      "\n",
      "[FP], n_samples: 1, dur: 3.22\n",
      "ETDATA----------------------------- 500.0000000000551\n"
     ]
    },
    {
     "name": "stderr",
     "output_type": "stream",
     "text": [
      "\r",
      "  7%|▋         | 8/120 [00:49<11:30,  6.17s/it]"
     ]
    },
    {
     "name": "stdout",
     "output_type": "stream",
     "text": [
      "\n",
      "\n",
      " 059 059_005_Fixation_Puzzle_puz009 Tested\n",
      "\n",
      "\n",
      "[FP], n_samples: 1, dur: 3.18\n",
      "ETDATA----------------------------- 500.0000000000551\n"
     ]
    },
    {
     "name": "stderr",
     "output_type": "stream",
     "text": [
      "\r",
      "  8%|▊         | 9/120 [00:55<11:22,  6.15s/it]"
     ]
    },
    {
     "name": "stdout",
     "output_type": "stream",
     "text": [
      "\n",
      "\n",
      " 059 059_008_FreeViewing_Puzzle_puz010 Tested\n",
      "\n",
      "\n",
      "[FP], n_samples: 1, dur: 3.21\n",
      "ETDATA----------------------------- 500.0000000000551\n"
     ]
    },
    {
     "name": "stderr",
     "output_type": "stream",
     "text": [
      "\r",
      "  8%|▊         | 10/120 [01:01<11:13,  6.12s/it]"
     ]
    },
    {
     "name": "stdout",
     "output_type": "stream",
     "text": [
      "\n",
      "\n",
      " 059 059_013_Fixation_Puzzle_puz008 Tested\n",
      "\n",
      "\n",
      "[FP], n_samples: 1, dur: 3.19\n",
      "ETDATA----------------------------- 500.0000000000551\n"
     ]
    },
    {
     "name": "stderr",
     "output_type": "stream",
     "text": [
      "\r",
      "  9%|▉         | 11/120 [01:07<11:05,  6.10s/it]"
     ]
    },
    {
     "name": "stdout",
     "output_type": "stream",
     "text": [
      "\n",
      "\n",
      " 059 059_014_Fixation_Natural_nat010 Tested\n",
      "\n",
      "\n",
      "[FP], n_samples: 1, dur: 3.21\n",
      "ETDATA----------------------------- 500.0000000000551\n"
     ]
    },
    {
     "name": "stderr",
     "output_type": "stream",
     "text": [
      "\r",
      " 10%|█         | 12/120 [01:13<10:59,  6.11s/it]"
     ]
    },
    {
     "name": "stdout",
     "output_type": "stream",
     "text": [
      "\n",
      "\n",
      " 059 059_010_Fixation_Natural_nat006 Tested\n",
      "\n",
      "\n",
      "[FP], n_samples: 1, dur: 3.19\n",
      "ETDATA----------------------------- 500.0000000000551\n"
     ]
    },
    {
     "name": "stderr",
     "output_type": "stream",
     "text": [
      "\r",
      " 11%|█         | 13/120 [01:20<10:54,  6.11s/it]"
     ]
    },
    {
     "name": "stdout",
     "output_type": "stream",
     "text": [
      "\n",
      "\n",
      " 059 059_015_FreeViewing_Blank_grey Tested\n",
      "\n",
      "\n",
      "[FP], n_samples: 1, dur: 3.23\n",
      "ETDATA----------------------------- 500.0000000000551\n"
     ]
    },
    {
     "name": "stderr",
     "output_type": "stream",
     "text": [
      "\r",
      " 12%|█▏        | 14/120 [01:26<10:49,  6.12s/it]"
     ]
    },
    {
     "name": "stdout",
     "output_type": "stream",
     "text": [
      "\n",
      "\n",
      " 059 059_011_FreeViewing_Natural_nat007 Tested\n",
      "\n",
      "\n",
      "[FP], n_samples: 1, dur: 3.22\n",
      "ETDATA----------------------------- 500.0000000000551\n"
     ]
    },
    {
     "name": "stderr",
     "output_type": "stream",
     "text": [
      "\r",
      " 12%|█▎        | 15/120 [01:32<10:43,  6.12s/it]"
     ]
    },
    {
     "name": "stdout",
     "output_type": "stream",
     "text": [
      "\n",
      "\n",
      " 059 059_012_FreeViewing_Waldo_wal008 Tested\n",
      "\n",
      "\n",
      "[FP], n_samples: 1, dur: 3.20\n",
      "ETDATA----------------------------- 500.0000000000551\n"
     ]
    },
    {
     "name": "stderr",
     "output_type": "stream",
     "text": [
      "\r",
      " 13%|█▎        | 16/120 [01:38<10:35,  6.11s/it]"
     ]
    },
    {
     "name": "stdout",
     "output_type": "stream",
     "text": [
      "\n",
      "\n",
      " 059 059_022_FreeViewing_Blank_grey Tested\n",
      "\n",
      "\n",
      "[FP], n_samples: 1, dur: 3.19\n",
      "ETDATA----------------------------- 500.0000000000551\n"
     ]
    },
    {
     "name": "stderr",
     "output_type": "stream",
     "text": [
      "\r",
      " 14%|█▍        | 17/120 [01:44<10:27,  6.09s/it]"
     ]
    },
    {
     "name": "stdout",
     "output_type": "stream",
     "text": [
      "\n",
      "\n",
      " 059 059_021_FreeViewing_Puzzle_puz009 Tested\n",
      "\n",
      "\n",
      "[FP], n_samples: 1, dur: 3.20\n",
      "ETDATA----------------------------- 500.0000000000551\n"
     ]
    },
    {
     "name": "stderr",
     "output_type": "stream",
     "text": [
      "\r",
      " 15%|█▌        | 18/120 [01:50<10:29,  6.18s/it]"
     ]
    },
    {
     "name": "stdout",
     "output_type": "stream",
     "text": [
      "\n",
      "\n",
      " 059 059_016_Fixation_Blank_grey Tested\n",
      "\n",
      "\n",
      "[FP], n_samples: 1, dur: 3.22\n",
      "ETDATA----------------------------- 500.0000000000551\n"
     ]
    },
    {
     "name": "stderr",
     "output_type": "stream",
     "text": [
      "\r",
      " 16%|█▌        | 19/120 [01:56<10:21,  6.16s/it]"
     ]
    },
    {
     "name": "stdout",
     "output_type": "stream",
     "text": [
      "\n",
      "\n",
      " 059 059_019_Fixation_Waldo_wal007 Tested\n",
      "\n",
      "\n",
      "[FP], n_samples: 1, dur: 3.23\n",
      "ETDATA----------------------------- 500.0000000000551\n"
     ]
    },
    {
     "name": "stderr",
     "output_type": "stream",
     "text": [
      "\r",
      " 17%|█▋        | 20/120 [02:03<10:15,  6.15s/it]"
     ]
    },
    {
     "name": "stdout",
     "output_type": "stream",
     "text": [
      "\n",
      "\n",
      " 059 059_017_FreeViewing_Natural_nat008 Tested\n",
      "\n",
      "\n",
      "[FP], n_samples: 1, dur: 3.25\n",
      "ETDATA----------------------------- 500.0000000000551\n"
     ]
    },
    {
     "name": "stderr",
     "output_type": "stream",
     "text": [
      "\r",
      " 18%|█▊        | 21/120 [02:09<10:07,  6.14s/it]"
     ]
    },
    {
     "name": "stdout",
     "output_type": "stream",
     "text": [
      "\n",
      "\n",
      " 059 059_018_FreeViewing_Blank_grey Tested\n",
      "\n",
      "\n",
      "[FP], n_samples: 1, dur: 3.20\n",
      "ETDATA----------------------------- 500.0000000000551\n"
     ]
    },
    {
     "name": "stderr",
     "output_type": "stream",
     "text": [
      "\r",
      " 18%|█▊        | 22/120 [02:16<10:31,  6.45s/it]"
     ]
    },
    {
     "name": "stdout",
     "output_type": "stream",
     "text": [
      "\n",
      "\n",
      " 059 059_020_Fixation_Blank_grey Tested\n",
      "\n",
      "\n",
      "[FP], n_samples: 1, dur: 3.20\n",
      "ETDATA----------------------------- 500.0000000000551\n"
     ]
    },
    {
     "name": "stderr",
     "output_type": "stream",
     "text": [
      "\r",
      " 19%|█▉        | 23/120 [02:22<10:13,  6.33s/it]"
     ]
    },
    {
     "name": "stdout",
     "output_type": "stream",
     "text": [
      "\n",
      "\n",
      " 059 059_024_Fixation_Natural_nat009 Tested\n",
      "\n",
      "\n",
      "[FP], n_samples: 1, dur: 3.23\n",
      "ETDATA----------------------------- 500.0000000000551\n"
     ]
    },
    {
     "name": "stderr",
     "output_type": "stream",
     "text": [
      "\r",
      " 20%|██        | 24/120 [02:28<10:04,  6.30s/it]"
     ]
    },
    {
     "name": "stdout",
     "output_type": "stream",
     "text": [
      "\n",
      "\n",
      " 059 059_028_Fixation_Blank_grey Tested\n",
      "\n",
      "\n",
      "[FP], n_samples: 1, dur: 3.19\n",
      "ETDATA----------------------------- 500.0000000000551\n"
     ]
    },
    {
     "name": "stderr",
     "output_type": "stream",
     "text": [
      "\r",
      " 21%|██        | 25/120 [02:34<09:54,  6.26s/it]"
     ]
    },
    {
     "name": "stdout",
     "output_type": "stream",
     "text": [
      "\n",
      "\n",
      " 059 059_027_FreeViewing_Waldo_wal007 Tested\n",
      "\n",
      "\n",
      "[FP], n_samples: 1, dur: 3.18\n",
      "ETDATA----------------------------- 500.0000000000551\n"
     ]
    },
    {
     "name": "stderr",
     "output_type": "stream",
     "text": [
      "\r",
      " 22%|██▏       | 26/120 [02:40<09:44,  6.22s/it]"
     ]
    },
    {
     "name": "stdout",
     "output_type": "stream",
     "text": [
      "\n",
      "\n",
      " 059 059_026_Fixation_Waldo_wal008 Tested\n",
      "\n",
      "\n",
      "[FP], n_samples: 1, dur: 3.20\n",
      "ETDATA----------------------------- 500.0000000000551\n"
     ]
    },
    {
     "name": "stderr",
     "output_type": "stream",
     "text": [
      "\r",
      " 22%|██▎       | 27/120 [02:47<09:46,  6.31s/it]"
     ]
    },
    {
     "name": "stdout",
     "output_type": "stream",
     "text": [
      "\n",
      "\n",
      " 059 059_023_FreeViewing_Waldo_wal006 Tested\n",
      "\n",
      "\n",
      "[FP], n_samples: 1, dur: 3.23\n",
      "ETDATA----------------------------- 500.0000000000551\n"
     ]
    },
    {
     "name": "stderr",
     "output_type": "stream",
     "text": [
      "\r",
      " 23%|██▎       | 28/120 [02:53<09:37,  6.27s/it]"
     ]
    },
    {
     "name": "stdout",
     "output_type": "stream",
     "text": [
      "\n",
      "\n",
      " 059 059_025_FreeViewing_Waldo_wal009 Tested\n",
      "\n",
      "\n",
      "[FP], n_samples: 1, dur: 3.21\n",
      "ETDATA----------------------------- 500.0000000000551\n"
     ]
    },
    {
     "name": "stderr",
     "output_type": "stream",
     "text": [
      "\r",
      " 24%|██▍       | 29/120 [02:59<09:27,  6.23s/it]"
     ]
    },
    {
     "name": "stdout",
     "output_type": "stream",
     "text": [
      "\n",
      "\n",
      " 059 059_030_Fixation_Puzzle_puz006 Tested\n",
      "\n",
      "\n",
      "[FP], n_samples: 1, dur: 3.23\n",
      "ETDATA----------------------------- 500.0000000000551\n"
     ]
    },
    {
     "name": "stderr",
     "output_type": "stream",
     "text": [
      "\r",
      " 25%|██▌       | 30/120 [03:06<09:26,  6.30s/it]"
     ]
    },
    {
     "name": "stdout",
     "output_type": "stream",
     "text": [
      "\n",
      "\n",
      " 059 059_033_Fixation_Blank_grey Tested\n",
      "\n",
      "\n",
      "[FP], n_samples: 1, dur: 3.20\n",
      "ETDATA----------------------------- 500.0000000000551\n"
     ]
    },
    {
     "name": "stderr",
     "output_type": "stream",
     "text": [
      "\r",
      " 26%|██▌       | 31/120 [03:12<09:13,  6.22s/it]"
     ]
    },
    {
     "name": "stdout",
     "output_type": "stream",
     "text": [
      "\n",
      "\n",
      " 059 059_031_Fixation_Waldo_wal009 Tested\n",
      "\n",
      "\n",
      "[FP], n_samples: 1, dur: 3.22\n",
      "ETDATA----------------------------- 500.0000000000551\n"
     ]
    },
    {
     "name": "stderr",
     "output_type": "stream",
     "text": [
      "\r",
      " 27%|██▋       | 32/120 [03:18<09:05,  6.20s/it]"
     ]
    },
    {
     "name": "stdout",
     "output_type": "stream",
     "text": [
      "\n",
      "\n",
      " 059 059_034_Fixation_Waldo_wal010 Tested\n",
      "\n",
      "\n",
      "[FP], n_samples: 1, dur: 3.18\n",
      "ETDATA----------------------------- 500.0000000000551\n"
     ]
    },
    {
     "name": "stderr",
     "output_type": "stream",
     "text": [
      "\r",
      " 28%|██▊       | 33/120 [03:24<08:55,  6.16s/it]"
     ]
    },
    {
     "name": "stdout",
     "output_type": "stream",
     "text": [
      "\n",
      "\n",
      " 059 059_032_FreeViewing_Puzzle_puz007 Tested\n",
      "\n",
      "\n",
      "[FP], n_samples: 1, dur: 3.20\n",
      "ETDATA----------------------------- 500.0000000000551\n"
     ]
    },
    {
     "name": "stderr",
     "output_type": "stream",
     "text": [
      "\r",
      " 28%|██▊       | 34/120 [03:30<08:47,  6.14s/it]"
     ]
    },
    {
     "name": "stdout",
     "output_type": "stream",
     "text": [
      "\n",
      "\n",
      " 059 059_029_Fixation_Puzzle_puz007 Tested\n",
      "\n",
      "\n",
      "[FP], n_samples: 1, dur: 3.23\n",
      "ETDATA----------------------------- 500.0000000000551\n"
     ]
    },
    {
     "name": "stderr",
     "output_type": "stream",
     "text": [
      "\r",
      " 29%|██▉       | 35/120 [03:36<08:42,  6.15s/it]"
     ]
    },
    {
     "name": "stdout",
     "output_type": "stream",
     "text": [
      "\n",
      "\n",
      " 059 059_036_Fixation_Puzzle_puz010 Tested\n",
      "\n",
      "\n",
      "[FP], n_samples: 1, dur: 3.20\n",
      "ETDATA----------------------------- 500.0000000000551\n"
     ]
    },
    {
     "name": "stderr",
     "output_type": "stream",
     "text": [
      "\r",
      " 30%|███       | 36/120 [03:42<08:39,  6.19s/it]"
     ]
    },
    {
     "name": "stdout",
     "output_type": "stream",
     "text": [
      "\n",
      "\n",
      " 059 059_039_FreeViewing_Waldo_wal010 Tested\n",
      "\n",
      "\n",
      "[FP], n_samples: 1, dur: 3.21\n",
      "ETDATA----------------------------- 500.0000000000551\n"
     ]
    },
    {
     "name": "stderr",
     "output_type": "stream",
     "text": [
      "\r",
      " 31%|███       | 37/120 [03:49<08:32,  6.17s/it]"
     ]
    },
    {
     "name": "stdout",
     "output_type": "stream",
     "text": [
      "\n",
      "\n",
      " 059 059_040_Fixation_Waldo_wal006 Tested\n",
      "\n",
      "\n",
      "[FP], n_samples: 1, dur: 3.18\n",
      "ETDATA----------------------------- 500.0000000000551\n"
     ]
    },
    {
     "name": "stderr",
     "output_type": "stream",
     "text": [
      "\r",
      " 32%|███▏      | 38/120 [03:55<08:24,  6.15s/it]"
     ]
    },
    {
     "name": "stdout",
     "output_type": "stream",
     "text": [
      "\n",
      "\n",
      " 059 059_035_Fixation_Blank_grey Tested\n",
      "\n",
      "\n",
      "[FP], n_samples: 1, dur: 3.20\n",
      "ETDATA----------------------------- 500.0000000000551\n"
     ]
    },
    {
     "name": "stderr",
     "output_type": "stream",
     "text": [
      "\r",
      " 32%|███▎      | 39/120 [04:01<08:18,  6.15s/it]"
     ]
    },
    {
     "name": "stdout",
     "output_type": "stream",
     "text": [
      "\n",
      "\n",
      " 059 059_038_FreeViewing_Natural_nat010 Tested\n",
      "\n",
      "\n",
      "[FP], n_samples: 1, dur: 3.21\n",
      "ETDATA----------------------------- 500.0000000000551\n"
     ]
    },
    {
     "name": "stderr",
     "output_type": "stream",
     "text": [
      "\r",
      " 33%|███▎      | 40/120 [04:07<08:11,  6.14s/it]"
     ]
    },
    {
     "name": "stdout",
     "output_type": "stream",
     "text": [
      "\n",
      "\n",
      " 059 059_037_FreeViewing_Blank_grey Tested\n",
      "\n",
      "\n",
      "[FP], n_samples: 1, dur: 3.20\n",
      "ETDATA----------------------------- 500.0000000000551\n"
     ]
    },
    {
     "name": "stderr",
     "output_type": "stream",
     "text": [
      "\r",
      " 34%|███▍      | 41/120 [04:13<08:09,  6.20s/it]"
     ]
    },
    {
     "name": "stdout",
     "output_type": "stream",
     "text": [
      "\n",
      "\n",
      " 059 059_041_Fixation_Natural_nat001 Tested\n",
      "\n",
      "\n",
      "[FP], n_samples: 1, dur: 3.19\n",
      "ETDATA----------------------------- 500.0000000000551\n"
     ]
    },
    {
     "name": "stderr",
     "output_type": "stream",
     "text": [
      "\r",
      " 35%|███▌      | 42/120 [04:19<08:00,  6.16s/it]"
     ]
    },
    {
     "name": "stdout",
     "output_type": "stream",
     "text": [
      "\n",
      "\n",
      " 059 059_046_Fixation_Waldo_wal002 Tested\n",
      "\n",
      "\n",
      "[FP], n_samples: 1, dur: 3.21\n",
      "ETDATA----------------------------- 500.0000000000551\n"
     ]
    },
    {
     "name": "stderr",
     "output_type": "stream",
     "text": [
      "\r",
      " 36%|███▌      | 43/120 [04:26<07:54,  6.17s/it]"
     ]
    },
    {
     "name": "stdout",
     "output_type": "stream",
     "text": [
      "\n",
      "\n",
      " 059 059_047_FreeViewing_Waldo_wal003 Tested\n",
      "\n",
      "\n",
      "[FP], n_samples: 1, dur: 3.19\n",
      "ETDATA----------------------------- 500.0000000000551\n"
     ]
    },
    {
     "name": "stderr",
     "output_type": "stream",
     "text": [
      "\r",
      " 37%|███▋      | 44/120 [04:32<07:47,  6.15s/it]"
     ]
    },
    {
     "name": "stdout",
     "output_type": "stream",
     "text": [
      "\n",
      "\n",
      " 059 059_044_FreeViewing_Waldo_wal002 Tested\n",
      "\n",
      "\n",
      "[FP], n_samples: 1, dur: 3.22\n",
      "ETDATA----------------------------- 500.0000000000551\n"
     ]
    },
    {
     "name": "stderr",
     "output_type": "stream",
     "text": [
      "\r",
      " 38%|███▊      | 45/120 [04:38<07:40,  6.14s/it]"
     ]
    },
    {
     "name": "stdout",
     "output_type": "stream",
     "text": [
      "\n",
      "\n",
      " 059 059_043_Fixation_Blank_grey Tested\n",
      "\n",
      "\n",
      "[FP], n_samples: 1, dur: 3.20\n",
      "ETDATA----------------------------- 500.0000000000551\n"
     ]
    },
    {
     "name": "stderr",
     "output_type": "stream",
     "text": [
      "\r",
      " 38%|███▊      | 46/120 [04:44<07:36,  6.16s/it]"
     ]
    },
    {
     "name": "stdout",
     "output_type": "stream",
     "text": [
      "\n",
      "\n",
      " 059 059_045_FreeViewing_Natural_nat001 Tested\n",
      "\n",
      "\n",
      "[FP], n_samples: 1, dur: 3.20\n",
      "ETDATA----------------------------- 500.0000000000551\n"
     ]
    },
    {
     "name": "stderr",
     "output_type": "stream",
     "text": [
      "\r",
      " 39%|███▉      | 47/120 [04:50<07:31,  6.18s/it]"
     ]
    },
    {
     "name": "stdout",
     "output_type": "stream",
     "text": [
      "\n",
      "\n",
      " 059 059_042_FreeViewing_Natural_nat003 Tested\n",
      "\n",
      "\n",
      "[FP], n_samples: 1, dur: 3.22\n",
      "ETDATA----------------------------- 500.0000000000551\n"
     ]
    },
    {
     "name": "stderr",
     "output_type": "stream",
     "text": [
      "\r",
      " 40%|████      | 48/120 [04:56<07:22,  6.15s/it]"
     ]
    },
    {
     "name": "stdout",
     "output_type": "stream",
     "text": [
      "\n",
      "\n",
      " 059 059_049_FreeViewing_Puzzle_puz004 Tested\n",
      "\n",
      "\n",
      "[FP], n_samples: 1, dur: 3.20\n",
      "ETDATA----------------------------- 500.0000000000551\n"
     ]
    },
    {
     "name": "stderr",
     "output_type": "stream",
     "text": [
      "\r",
      " 41%|████      | 49/120 [05:02<07:15,  6.14s/it]"
     ]
    },
    {
     "name": "stdout",
     "output_type": "stream",
     "text": [
      "\n",
      "\n",
      " 059 059_052_FreeViewing_Puzzle_puz002 Tested\n",
      "\n",
      "\n",
      "[FP], n_samples: 1, dur: 3.20\n",
      "ETDATA----------------------------- 500.0000000000551\n"
     ]
    },
    {
     "name": "stderr",
     "output_type": "stream",
     "text": [
      "\r",
      " 42%|████▏     | 50/120 [05:09<07:09,  6.14s/it]"
     ]
    },
    {
     "name": "stdout",
     "output_type": "stream",
     "text": [
      "\n",
      "\n",
      " 059 059_053_FreeViewing_Natural_nat005 Tested\n",
      "\n",
      "\n",
      "[FP], n_samples: 1, dur: 3.19\n",
      "ETDATA----------------------------- 500.0000000000551\n"
     ]
    },
    {
     "name": "stderr",
     "output_type": "stream",
     "text": [
      "\r",
      " 42%|████▎     | 51/120 [05:15<07:02,  6.12s/it]"
     ]
    },
    {
     "name": "stdout",
     "output_type": "stream",
     "text": [
      "\n",
      "\n",
      " 059 059_050_FreeViewing_Blank_grey Tested\n",
      "\n",
      "\n",
      "[FP], n_samples: 1, dur: 3.23\n",
      "ETDATA----------------------------- 500.0000000000551\n"
     ]
    },
    {
     "name": "stderr",
     "output_type": "stream",
     "text": [
      "\r",
      " 43%|████▎     | 52/120 [05:21<06:57,  6.15s/it]"
     ]
    },
    {
     "name": "stdout",
     "output_type": "stream",
     "text": [
      "\n",
      "\n",
      " 059 059_048_FreeViewing_Puzzle_puz003 Tested\n",
      "\n",
      "\n",
      "[FP], n_samples: 1, dur: 3.23\n",
      "ETDATA----------------------------- 500.0000000000551\n"
     ]
    },
    {
     "name": "stderr",
     "output_type": "stream",
     "text": [
      "\r",
      " 44%|████▍     | 53/120 [05:27<06:53,  6.17s/it]"
     ]
    },
    {
     "name": "stdout",
     "output_type": "stream",
     "text": [
      "\n",
      "\n",
      " 059 059_051_FreeViewing_Puzzle_puz005 Tested\n",
      "\n",
      "\n",
      "[FP], n_samples: 1, dur: 3.23\n",
      "ETDATA----------------------------- 500.0000000000551\n"
     ]
    },
    {
     "name": "stderr",
     "output_type": "stream",
     "text": [
      "\r",
      " 45%|████▌     | 54/120 [05:33<06:47,  6.17s/it]"
     ]
    },
    {
     "name": "stdout",
     "output_type": "stream",
     "text": [
      "\n",
      "\n",
      " 059 059_054_Fixation_Blank_grey Tested\n",
      "\n",
      "\n",
      "[FP], n_samples: 1, dur: 3.24\n",
      "ETDATA----------------------------- 500.0000000000551\n"
     ]
    },
    {
     "name": "stderr",
     "output_type": "stream",
     "text": [
      "\r",
      " 46%|████▌     | 55/120 [05:39<06:42,  6.19s/it]"
     ]
    },
    {
     "name": "stdout",
     "output_type": "stream",
     "text": [
      "\n",
      "\n",
      " 059 059_058_Fixation_Waldo_wal005 Tested\n",
      "\n",
      "\n",
      "[FP], n_samples: 1, dur: 3.24\n",
      "ETDATA----------------------------- 500.0000000000551\n"
     ]
    },
    {
     "name": "stderr",
     "output_type": "stream",
     "text": [
      "\r",
      " 47%|████▋     | 56/120 [05:46<06:36,  6.19s/it]"
     ]
    },
    {
     "name": "stdout",
     "output_type": "stream",
     "text": [
      "\n",
      "\n",
      " 059 059_057_FreeViewing_Puzzle_puz001 Tested\n",
      "\n",
      "\n",
      "[FP], n_samples: 1, dur: 3.19\n",
      "ETDATA----------------------------- 500.0000000000551\n"
     ]
    },
    {
     "name": "stderr",
     "output_type": "stream",
     "text": [
      "\r",
      " 48%|████▊     | 57/120 [05:52<06:29,  6.18s/it]"
     ]
    },
    {
     "name": "stdout",
     "output_type": "stream",
     "text": [
      "\n",
      "\n",
      " 059 059_055_Fixation_Waldo_wal001 Tested\n",
      "\n",
      "\n",
      "[FP], n_samples: 1, dur: 3.23\n",
      "ETDATA----------------------------- 500.0000000000551\n"
     ]
    },
    {
     "name": "stderr",
     "output_type": "stream",
     "text": [
      "\r",
      " 48%|████▊     | 58/120 [05:58<06:22,  6.17s/it]"
     ]
    },
    {
     "name": "stdout",
     "output_type": "stream",
     "text": [
      "\n",
      "\n",
      " 059 059_056_Fixation_Waldo_wal004 Tested\n",
      "\n",
      "\n",
      "[FP], n_samples: 1, dur: 3.19\n",
      "ETDATA----------------------------- 500.0000000000551\n"
     ]
    },
    {
     "name": "stderr",
     "output_type": "stream",
     "text": [
      "\r",
      " 49%|████▉     | 59/120 [06:04<06:15,  6.15s/it]"
     ]
    },
    {
     "name": "stdout",
     "output_type": "stream",
     "text": [
      "\n",
      "\n",
      " 059 059_059_Fixation_Blank_grey Tested\n",
      "\n",
      "\n",
      "[FP], n_samples: 1, dur: 3.21\n",
      "ETDATA----------------------------- 500.0000000000551\n"
     ]
    },
    {
     "name": "stderr",
     "output_type": "stream",
     "text": [
      "\r",
      " 50%|█████     | 60/120 [06:10<06:09,  6.16s/it]"
     ]
    },
    {
     "name": "stdout",
     "output_type": "stream",
     "text": [
      "\n",
      "\n",
      " 059 059_060_FreeViewing_Natural_nat004 Tested\n",
      "\n",
      "\n",
      "[FP], n_samples: 1, dur: 3.18\n",
      "ETDATA----------------------------- 500.0000000000551\n"
     ]
    },
    {
     "name": "stderr",
     "output_type": "stream",
     "text": [
      "\r",
      " 51%|█████     | 61/120 [06:17<06:11,  6.29s/it]"
     ]
    },
    {
     "name": "stdout",
     "output_type": "stream",
     "text": [
      "\n",
      "\n",
      " 059 059_064_Fixation_Puzzle_puz004 Tested\n",
      "\n",
      "\n",
      "[FP], n_samples: 1, dur: 3.20\n",
      "ETDATA----------------------------- 500.0000000000551\n"
     ]
    },
    {
     "name": "stderr",
     "output_type": "stream",
     "text": [
      "\r",
      " 52%|█████▏    | 62/120 [06:23<06:01,  6.24s/it]"
     ]
    },
    {
     "name": "stdout",
     "output_type": "stream",
     "text": [
      "\n",
      "\n",
      " 059 059_063_Fixation_Puzzle_puz005 Tested\n",
      "\n",
      "\n",
      "[FP], n_samples: 1, dur: 3.21\n",
      "ETDATA----------------------------- 500.0000000000551\n"
     ]
    },
    {
     "name": "stderr",
     "output_type": "stream",
     "text": [
      "\r",
      " 52%|█████▎    | 63/120 [06:29<05:55,  6.23s/it]"
     ]
    },
    {
     "name": "stdout",
     "output_type": "stream",
     "text": [
      "\n",
      "\n",
      " 059 059_062_FreeViewing_Blank_grey Tested\n",
      "\n",
      "\n",
      "[FP], n_samples: 1, dur: 3.18\n",
      "ETDATA----------------------------- 500.0000000000551\n"
     ]
    },
    {
     "name": "stderr",
     "output_type": "stream",
     "text": [
      "\r",
      " 53%|█████▎    | 64/120 [06:35<05:45,  6.18s/it]"
     ]
    },
    {
     "name": "stdout",
     "output_type": "stream",
     "text": [
      "\n",
      "\n",
      " 059 059_061_FreeViewing_Blank_grey Tested\n",
      "\n",
      "\n",
      "[FP], n_samples: 1, dur: 3.23\n",
      "ETDATA----------------------------- 500.0000000000551\n"
     ]
    },
    {
     "name": "stderr",
     "output_type": "stream",
     "text": [
      "\r",
      " 54%|█████▍    | 65/120 [06:41<05:40,  6.19s/it]"
     ]
    },
    {
     "name": "stdout",
     "output_type": "stream",
     "text": [
      "\n",
      "\n",
      " 059 059_065_FreeViewing_Blank_grey Tested\n",
      "\n",
      "\n",
      "[FP], n_samples: 1, dur: 3.19\n",
      "ETDATA----------------------------- 500.0000000000551\n"
     ]
    },
    {
     "name": "stderr",
     "output_type": "stream",
     "text": [
      "\r",
      " 55%|█████▌    | 66/120 [06:48<05:33,  6.17s/it]"
     ]
    },
    {
     "name": "stdout",
     "output_type": "stream",
     "text": [
      "\n",
      "\n",
      " 059 059_070_Fixation_Natural_nat004 Tested\n",
      "\n",
      "\n",
      "[FP], n_samples: 1, dur: 3.21\n",
      "ETDATA----------------------------- 500.0000000000551\n"
     ]
    },
    {
     "name": "stderr",
     "output_type": "stream",
     "text": [
      "\r",
      " 56%|█████▌    | 67/120 [06:54<05:26,  6.16s/it]"
     ]
    },
    {
     "name": "stdout",
     "output_type": "stream",
     "text": [
      "\n",
      "\n",
      " 059 059_066_Fixation_Puzzle_puz002 Tested\n",
      "\n",
      "\n",
      "[FP], n_samples: 1, dur: 3.21\n",
      "ETDATA----------------------------- 500.0000000000551\n"
     ]
    },
    {
     "name": "stderr",
     "output_type": "stream",
     "text": [
      "\r",
      " 57%|█████▋    | 68/120 [07:00<05:19,  6.15s/it]"
     ]
    },
    {
     "name": "stdout",
     "output_type": "stream",
     "text": [
      "\n",
      "\n",
      " 059 059_069_FreeViewing_Waldo_wal001 Tested\n",
      "\n",
      "\n",
      "[FP], n_samples: 1, dur: 3.19\n",
      "ETDATA----------------------------- 500.0000000000551\n"
     ]
    },
    {
     "name": "stderr",
     "output_type": "stream",
     "text": [
      "\r",
      " 57%|█████▊    | 69/120 [07:06<05:13,  6.15s/it]"
     ]
    },
    {
     "name": "stdout",
     "output_type": "stream",
     "text": [
      "\n",
      "\n",
      " 059 059_067_FreeViewing_Natural_nat002 Tested\n",
      "\n",
      "\n",
      "[FP], n_samples: 1, dur: 3.26\n",
      "ETDATA----------------------------- 500.0000000000551\n"
     ]
    },
    {
     "name": "stderr",
     "output_type": "stream",
     "text": [
      "\r",
      " 58%|█████▊    | 70/120 [07:12<05:08,  6.18s/it]"
     ]
    },
    {
     "name": "stdout",
     "output_type": "stream",
     "text": [
      "\n",
      "\n",
      " 059 059_071_Fixation_Blank_grey Tested\n",
      "\n",
      "\n",
      "[FP], n_samples: 1, dur: 3.30\n",
      "ETDATA----------------------------- 500.0000000000551\n"
     ]
    },
    {
     "name": "stderr",
     "output_type": "stream",
     "text": [
      "\r",
      " 59%|█████▉    | 71/120 [07:19<05:03,  6.20s/it]"
     ]
    },
    {
     "name": "stdout",
     "output_type": "stream",
     "text": [
      "\n",
      "\n",
      " 059 059_068_Fixation_Natural_nat003 Tested\n",
      "\n",
      "\n",
      "[FP], n_samples: 1, dur: 3.25\n",
      "ETDATA----------------------------- 500.0000000000551\n"
     ]
    },
    {
     "name": "stderr",
     "output_type": "stream",
     "text": [
      "\r",
      " 60%|██████    | 72/120 [07:25<04:58,  6.22s/it]"
     ]
    },
    {
     "name": "stdout",
     "output_type": "stream",
     "text": [
      "\n",
      "\n",
      " 059 059_077_FreeViewing_Blank_grey Tested\n",
      "\n",
      "\n",
      "[FP], n_samples: 1, dur: 3.23\n",
      "ETDATA----------------------------- 500.0000000000551\n"
     ]
    },
    {
     "name": "stderr",
     "output_type": "stream",
     "text": [
      "\r",
      " 61%|██████    | 73/120 [07:31<04:55,  6.29s/it]"
     ]
    },
    {
     "name": "stdout",
     "output_type": "stream",
     "text": [
      "\n",
      "\n",
      " 059 059_078_Fixation_Blank_grey Tested\n",
      "\n",
      "\n",
      "[FP], n_samples: 1, dur: 3.23\n",
      "ETDATA----------------------------- 500.0000000000551\n"
     ]
    },
    {
     "name": "stderr",
     "output_type": "stream",
     "text": [
      "\r",
      " 62%|██████▏   | 74/120 [07:37<04:47,  6.26s/it]"
     ]
    },
    {
     "name": "stdout",
     "output_type": "stream",
     "text": [
      "\n",
      "\n",
      " 059 059_074_Fixation_Waldo_wal003 Tested\n",
      "\n",
      "\n",
      "[FP], n_samples: 1, dur: 3.27\n",
      "ETDATA----------------------------- 500.0000000000551\n"
     ]
    },
    {
     "name": "stderr",
     "output_type": "stream",
     "text": [
      "\r",
      " 62%|██████▎   | 75/120 [07:44<04:41,  6.27s/it]"
     ]
    },
    {
     "name": "stdout",
     "output_type": "stream",
     "text": [
      "\n",
      "\n",
      " 059 059_075_FreeViewing_Waldo_wal005 Tested\n",
      "\n",
      "\n",
      "[FP], n_samples: 1, dur: 3.26\n",
      "ETDATA----------------------------- 500.0000000000551\n"
     ]
    },
    {
     "name": "stderr",
     "output_type": "stream",
     "text": [
      "\r",
      " 63%|██████▎   | 76/120 [07:50<04:35,  6.26s/it]"
     ]
    },
    {
     "name": "stdout",
     "output_type": "stream",
     "text": [
      "\n",
      "\n",
      " 059 059_072_FreeViewing_Waldo_wal004 Tested\n",
      "\n",
      "\n",
      "[FP], n_samples: 1, dur: 3.22\n",
      "ETDATA----------------------------- 500.0000000000551\n"
     ]
    },
    {
     "name": "stderr",
     "output_type": "stream",
     "text": [
      "\r",
      " 64%|██████▍   | 77/120 [07:56<04:28,  6.24s/it]"
     ]
    },
    {
     "name": "stdout",
     "output_type": "stream",
     "text": [
      "\n",
      "\n",
      " 059 059_076_Fixation_Puzzle_puz001 Tested\n",
      "\n",
      "\n",
      "[FP], n_samples: 1, dur: 3.20\n",
      "ETDATA----------------------------- 500.0000000000551\n"
     ]
    },
    {
     "name": "stderr",
     "output_type": "stream",
     "text": [
      "\r",
      " 65%|██████▌   | 78/120 [08:02<04:20,  6.21s/it]"
     ]
    },
    {
     "name": "stdout",
     "output_type": "stream",
     "text": [
      "\n",
      "\n",
      " 059 059_073_Fixation_Puzzle_puz003 Tested\n",
      "\n",
      "\n",
      "[FP], n_samples: 1, dur: 3.22\n",
      "ETDATA----------------------------- 500.0000000000551\n"
     ]
    },
    {
     "name": "stderr",
     "output_type": "stream",
     "text": [
      "\r",
      " 66%|██████▌   | 79/120 [08:08<04:13,  6.18s/it]"
     ]
    },
    {
     "name": "stdout",
     "output_type": "stream",
     "text": [
      "\n",
      "\n",
      " 059 059_084_FreeViewing_Blank_grey Tested\n",
      "\n",
      "\n",
      "[FP], n_samples: 1, dur: 3.21\n",
      "ETDATA----------------------------- 500.0000000000551\n"
     ]
    },
    {
     "name": "stderr",
     "output_type": "stream",
     "text": [
      "\r",
      " 67%|██████▋   | 80/120 [08:14<04:06,  6.16s/it]"
     ]
    },
    {
     "name": "stdout",
     "output_type": "stream",
     "text": [
      "\n",
      "\n",
      " 059 059_080_Fixation_Natural_nat002 Tested\n",
      "\n",
      "\n",
      "[FP], n_samples: 1, dur: 3.19\n",
      "ETDATA----------------------------- 500.0000000000551\n"
     ]
    },
    {
     "name": "stderr",
     "output_type": "stream",
     "text": [
      "\r",
      " 68%|██████▊   | 81/120 [08:21<04:00,  6.18s/it]"
     ]
    },
    {
     "name": "stdout",
     "output_type": "stream",
     "text": [
      "\n",
      "\n",
      " 059 059_082_Fixation_Waldo_wal014 Tested\n",
      "\n",
      "\n",
      "[FP], n_samples: 1, dur: 3.17\n",
      "ETDATA----------------------------- 500.0000000000551\n"
     ]
    },
    {
     "name": "stderr",
     "output_type": "stream",
     "text": [
      "\r",
      " 68%|██████▊   | 82/120 [08:27<03:55,  6.19s/it]"
     ]
    },
    {
     "name": "stdout",
     "output_type": "stream",
     "text": [
      "\n",
      "\n",
      " 059 059_081_FreeViewing_Natural_nat012 Tested\n",
      "\n",
      "\n",
      "[FP], n_samples: 1, dur: 3.21\n",
      "ETDATA----------------------------- 500.0000000000551\n"
     ]
    },
    {
     "name": "stderr",
     "output_type": "stream",
     "text": [
      "\r",
      " 69%|██████▉   | 83/120 [08:33<03:51,  6.25s/it]"
     ]
    },
    {
     "name": "stdout",
     "output_type": "stream",
     "text": [
      "\n",
      "\n",
      " 059 059_079_Fixation_Natural_nat005 Tested\n",
      "\n",
      "\n",
      "[FP], n_samples: 1, dur: 3.21\n",
      "ETDATA----------------------------- 500.0000000000551\n"
     ]
    },
    {
     "name": "stderr",
     "output_type": "stream",
     "text": [
      "\r",
      " 70%|███████   | 84/120 [08:40<03:46,  6.29s/it]"
     ]
    },
    {
     "name": "stdout",
     "output_type": "stream",
     "text": [
      "\n",
      "\n",
      " 059 059_083_FreeViewing_Natural_nat014 Tested\n",
      "\n",
      "\n",
      "[FP], n_samples: 1, dur: 3.20\n",
      "ETDATA----------------------------- 500.0000000000551\n"
     ]
    },
    {
     "name": "stderr",
     "output_type": "stream",
     "text": [
      "\r",
      " 71%|███████   | 85/120 [08:46<03:39,  6.27s/it]"
     ]
    },
    {
     "name": "stdout",
     "output_type": "stream",
     "text": [
      "\n",
      "\n",
      " 059 059_085_FreeViewing_Waldo_wal011 Tested\n",
      "\n",
      "\n",
      "[FP], n_samples: 1, dur: 3.20\n",
      "ETDATA----------------------------- 500.0000000000551\n"
     ]
    },
    {
     "name": "stderr",
     "output_type": "stream",
     "text": [
      "\r",
      " 72%|███████▏  | 86/120 [08:53<03:36,  6.38s/it]"
     ]
    },
    {
     "name": "stdout",
     "output_type": "stream",
     "text": [
      "\n",
      "\n",
      " 059 059_087_Fixation_Blank_grey Tested\n",
      "\n",
      "\n",
      "[FP], n_samples: 1, dur: 3.21\n",
      "ETDATA----------------------------- 500.0000000000551\n"
     ]
    },
    {
     "name": "stderr",
     "output_type": "stream",
     "text": [
      "\r",
      " 72%|███████▎  | 87/120 [08:59<03:33,  6.48s/it]"
     ]
    },
    {
     "name": "stdout",
     "output_type": "stream",
     "text": [
      "\n",
      "\n",
      " 059 059_088_Fixation_Natural_nat011 Tested\n",
      "\n",
      "\n",
      "[FP], n_samples: 1, dur: 3.20\n",
      "ETDATA----------------------------- 500.0000000000551\n"
     ]
    },
    {
     "name": "stderr",
     "output_type": "stream",
     "text": [
      "\r",
      " 73%|███████▎  | 88/120 [09:05<03:23,  6.36s/it]"
     ]
    },
    {
     "name": "stdout",
     "output_type": "stream",
     "text": [
      "\n",
      "\n",
      " 059 059_090_FreeViewing_Puzzle_puz015 Tested\n",
      "\n",
      "\n",
      "[FP], n_samples: 1, dur: 3.19\n",
      "ETDATA----------------------------- 500.0000000000551\n"
     ]
    },
    {
     "name": "stderr",
     "output_type": "stream",
     "text": [
      "\r",
      " 74%|███████▍  | 89/120 [09:12<03:17,  6.39s/it]"
     ]
    },
    {
     "name": "stdout",
     "output_type": "stream",
     "text": [
      "\n",
      "\n",
      " 059 059_086_Fixation_Blank_grey Tested\n",
      "\n",
      "\n",
      "[FP], n_samples: 1, dur: 3.23\n",
      "ETDATA----------------------------- 500.0000000000551\n"
     ]
    },
    {
     "name": "stderr",
     "output_type": "stream",
     "text": [
      "\r",
      " 75%|███████▌  | 90/120 [09:18<03:11,  6.37s/it]"
     ]
    },
    {
     "name": "stdout",
     "output_type": "stream",
     "text": [
      "\n",
      "\n",
      " 059 059_089_FreeViewing_Blank_grey Tested\n",
      "\n",
      "\n",
      "[FP], n_samples: 1, dur: 3.22\n",
      "ETDATA----------------------------- 500.0000000000551\n"
     ]
    },
    {
     "name": "stderr",
     "output_type": "stream",
     "text": [
      "\r",
      " 76%|███████▌  | 91/120 [09:24<03:03,  6.32s/it]"
     ]
    },
    {
     "name": "stdout",
     "output_type": "stream",
     "text": [
      "\n",
      "\n",
      " 059 059_092_FreeViewing_Waldo_wal013 Tested\n",
      "\n",
      "\n",
      "[FP], n_samples: 1, dur: 3.23\n",
      "ETDATA----------------------------- 500.0000000000551\n"
     ]
    },
    {
     "name": "stderr",
     "output_type": "stream",
     "text": [
      "\r",
      " 77%|███████▋  | 92/120 [09:31<02:55,  6.28s/it]"
     ]
    },
    {
     "name": "stdout",
     "output_type": "stream",
     "text": [
      "\n",
      "\n",
      " 059 059_094_FreeViewing_Waldo_wal015 Tested\n",
      "\n",
      "\n",
      "[FP], n_samples: 1, dur: 3.25\n",
      "ETDATA----------------------------- 500.0000000000551\n"
     ]
    },
    {
     "name": "stderr",
     "output_type": "stream",
     "text": [
      "\r",
      " 78%|███████▊  | 93/120 [09:37<02:48,  6.25s/it]"
     ]
    },
    {
     "name": "stdout",
     "output_type": "stream",
     "text": [
      "\n",
      "\n",
      " 059 059_096_FreeViewing_Blank_grey Tested\n",
      "\n",
      "\n",
      "[FP], n_samples: 1, dur: 3.23\n",
      "ETDATA----------------------------- 500.0000000000551\n"
     ]
    },
    {
     "name": "stderr",
     "output_type": "stream",
     "text": [
      "\r",
      " 78%|███████▊  | 94/120 [09:43<02:41,  6.22s/it]"
     ]
    },
    {
     "name": "stdout",
     "output_type": "stream",
     "text": [
      "\n",
      "\n",
      " 059 059_091_Fixation_Blank_grey Tested\n",
      "\n",
      "\n",
      "[FP], n_samples: 1, dur: 3.24\n",
      "ETDATA----------------------------- 500.0000000000551\n"
     ]
    },
    {
     "name": "stderr",
     "output_type": "stream",
     "text": [
      "\r",
      " 79%|███████▉  | 95/120 [09:49<02:35,  6.22s/it]"
     ]
    },
    {
     "name": "stdout",
     "output_type": "stream",
     "text": [
      "\n",
      "\n",
      " 059 059_095_FreeViewing_Puzzle_puz014 Tested\n",
      "\n",
      "\n",
      "[FP], n_samples: 1, dur: 3.26\n",
      "ETDATA----------------------------- 500.0000000000551\n"
     ]
    },
    {
     "name": "stderr",
     "output_type": "stream",
     "text": [
      "\r",
      " 80%|████████  | 96/120 [09:55<02:28,  6.20s/it]"
     ]
    },
    {
     "name": "stdout",
     "output_type": "stream",
     "text": [
      "\n",
      "\n",
      " 059 059_093_Fixation_Puzzle_puz011 Tested\n",
      "\n",
      "\n",
      "[FP], n_samples: 1, dur: 3.25\n",
      "ETDATA----------------------------- 500.0000000000551\n"
     ]
    },
    {
     "name": "stderr",
     "output_type": "stream",
     "text": [
      "\r",
      " 81%|████████  | 97/120 [10:01<02:22,  6.19s/it]"
     ]
    },
    {
     "name": "stdout",
     "output_type": "stream",
     "text": [
      "\n",
      "\n",
      " 059 059_100_Fixation_Blank_grey Tested\n",
      "\n",
      "\n",
      "[FP], n_samples: 1, dur: 3.22\n",
      "ETDATA----------------------------- 500.0000000000551\n"
     ]
    },
    {
     "name": "stderr",
     "output_type": "stream",
     "text": [
      "\r",
      " 82%|████████▏ | 98/120 [10:07<02:15,  6.14s/it]"
     ]
    },
    {
     "name": "stdout",
     "output_type": "stream",
     "text": [
      "\n",
      "\n",
      " 059 059_101_Fixation_Puzzle_puz013 Tested\n",
      "\n",
      "\n",
      "[FP], n_samples: 1, dur: 3.65\n",
      "ETDATA----------------------------- 500.0000000000551\n"
     ]
    },
    {
     "name": "stderr",
     "output_type": "stream",
     "text": [
      "\r",
      " 82%|████████▎ | 99/120 [10:14<02:11,  6.26s/it]"
     ]
    },
    {
     "name": "stdout",
     "output_type": "stream",
     "text": [
      "\n",
      "\n",
      " 059 059_102_Fixation_Natural_nat012 Tested\n",
      "\n",
      "\n",
      "[FP], n_samples: 1, dur: 3.23\n",
      "ETDATA----------------------------- 500.0000000000551\n"
     ]
    },
    {
     "name": "stderr",
     "output_type": "stream",
     "text": [
      "\r",
      " 83%|████████▎ | 100/120 [10:20<02:04,  6.23s/it]"
     ]
    },
    {
     "name": "stdout",
     "output_type": "stream",
     "text": [
      "\n",
      "\n",
      " 059 059_103_Fixation_Puzzle_puz012 Tested\n",
      "\n",
      "\n",
      "[FP], n_samples: 1, dur: 3.22\n",
      "ETDATA----------------------------- 500.0000000000551\n"
     ]
    },
    {
     "name": "stderr",
     "output_type": "stream",
     "text": [
      "\r",
      " 84%|████████▍ | 101/120 [10:26<01:57,  6.19s/it]"
     ]
    },
    {
     "name": "stdout",
     "output_type": "stream",
     "text": [
      "\n",
      "\n",
      " 059 059_098_Fixation_Natural_nat013 Tested\n",
      "\n",
      "\n",
      "[FP], n_samples: 1, dur: 3.20\n",
      "ETDATA----------------------------- 500.0000000000551\n"
     ]
    },
    {
     "name": "stderr",
     "output_type": "stream",
     "text": [
      "\r",
      " 85%|████████▌ | 102/120 [10:32<01:50,  6.14s/it]"
     ]
    },
    {
     "name": "stdout",
     "output_type": "stream",
     "text": [
      "\n",
      "\n",
      " 059 059_099_FreeViewing_Waldo_wal012 Tested\n",
      "\n",
      "\n",
      "[FP], n_samples: 1, dur: 3.17\n",
      "ETDATA----------------------------- 500.0000000000551\n"
     ]
    },
    {
     "name": "stderr",
     "output_type": "stream",
     "text": [
      "\r",
      " 86%|████████▌ | 103/120 [10:38<01:43,  6.10s/it]"
     ]
    },
    {
     "name": "stdout",
     "output_type": "stream",
     "text": [
      "\n",
      "\n",
      " 059 059_097_FreeViewing_Waldo_wal014 Tested\n",
      "\n",
      "\n",
      "[FP], n_samples: 1, dur: 3.23\n",
      "ETDATA----------------------------- 500.0000000000551\n"
     ]
    },
    {
     "name": "stderr",
     "output_type": "stream",
     "text": [
      "\r",
      " 87%|████████▋ | 104/120 [10:44<01:38,  6.13s/it]"
     ]
    },
    {
     "name": "stdout",
     "output_type": "stream",
     "text": [
      "\n",
      "\n",
      " 059 059_108_FreeViewing_Natural_nat013 Tested\n",
      "\n",
      "\n",
      "[FP], n_samples: 1, dur: 3.21\n",
      "ETDATA----------------------------- 500.0000000000551\n"
     ]
    },
    {
     "name": "stderr",
     "output_type": "stream",
     "text": [
      "\r",
      " 88%|████████▊ | 105/120 [10:51<01:31,  6.11s/it]"
     ]
    },
    {
     "name": "stdout",
     "output_type": "stream",
     "text": [
      "\n",
      "\n",
      " 059 059_106_Fixation_Waldo_wal015 Tested\n",
      "\n",
      "\n",
      "[FP], n_samples: 1, dur: 3.23\n",
      "ETDATA----------------------------- 500.0000000000551\n"
     ]
    },
    {
     "name": "stderr",
     "output_type": "stream",
     "text": [
      "\r",
      " 88%|████████▊ | 106/120 [10:57<01:25,  6.13s/it]"
     ]
    },
    {
     "name": "stdout",
     "output_type": "stream",
     "text": [
      "\n",
      "\n",
      " 059 059_107_Fixation_Puzzle_puz015 Tested\n",
      "\n",
      "\n",
      "[FP], n_samples: 1, dur: 3.22\n",
      "ETDATA----------------------------- 500.0000000000551\n"
     ]
    },
    {
     "name": "stderr",
     "output_type": "stream",
     "text": [
      "\r",
      " 89%|████████▉ | 107/120 [11:03<01:19,  6.12s/it]"
     ]
    },
    {
     "name": "stdout",
     "output_type": "stream",
     "text": [
      "\n",
      "\n",
      " 059 059_104_Fixation_Natural_nat014 Tested\n",
      "\n",
      "\n",
      "[FP], n_samples: 1, dur: 3.19\n",
      "ETDATA----------------------------- 500.0000000000551\n"
     ]
    },
    {
     "name": "stderr",
     "output_type": "stream",
     "text": [
      "\r",
      " 90%|█████████ | 108/120 [11:09<01:13,  6.11s/it]"
     ]
    },
    {
     "name": "stdout",
     "output_type": "stream",
     "text": [
      "\n",
      "\n",
      " 059 059_109_FreeViewing_Natural_nat011 Tested\n",
      "\n",
      "\n",
      "[FP], n_samples: 1, dur: 3.20\n",
      "ETDATA----------------------------- 500.0000000000551\n"
     ]
    },
    {
     "name": "stderr",
     "output_type": "stream",
     "text": [
      "\r",
      " 91%|█████████ | 109/120 [11:15<01:08,  6.25s/it]"
     ]
    },
    {
     "name": "stdout",
     "output_type": "stream",
     "text": [
      "\n",
      "\n",
      " 059 059_105_FreeViewing_Puzzle_puz012 Tested\n",
      "\n",
      "\n",
      "[FP], n_samples: 1, dur: 3.21\n",
      "ETDATA----------------------------- 500.0000000000551\n"
     ]
    },
    {
     "name": "stderr",
     "output_type": "stream",
     "text": [
      "\r",
      " 92%|█████████▏| 110/120 [11:22<01:02,  6.28s/it]"
     ]
    },
    {
     "name": "stdout",
     "output_type": "stream",
     "text": [
      "\n",
      "\n",
      " 059 059_112_FreeViewing_Blank_grey Tested\n",
      "\n",
      "\n",
      "[FP], n_samples: 1, dur: 3.22\n",
      "ETDATA----------------------------- 500.0000000000551\n"
     ]
    },
    {
     "name": "stderr",
     "output_type": "stream",
     "text": [
      "\r",
      " 92%|█████████▎| 111/120 [11:28<00:55,  6.21s/it]"
     ]
    },
    {
     "name": "stdout",
     "output_type": "stream",
     "text": [
      "\n",
      "\n",
      " 059 059_113_Fixation_Puzzle_puz014 Tested\n",
      "\n",
      "\n",
      "[FP], n_samples: 1, dur: 3.22\n",
      "ETDATA----------------------------- 500.0000000000551\n"
     ]
    },
    {
     "name": "stderr",
     "output_type": "stream",
     "text": [
      "\r",
      " 93%|█████████▎| 112/120 [11:34<00:49,  6.19s/it]"
     ]
    },
    {
     "name": "stdout",
     "output_type": "stream",
     "text": [
      "\n",
      "\n",
      " 059 059_115_FreeViewing_Puzzle_puz013 Tested\n",
      "\n",
      "\n",
      "[FP], n_samples: 1, dur: 3.16\n",
      "ETDATA----------------------------- 500.0000000000551\n"
     ]
    },
    {
     "name": "stderr",
     "output_type": "stream",
     "text": [
      "\r",
      " 94%|█████████▍| 113/120 [11:40<00:43,  6.15s/it]"
     ]
    },
    {
     "name": "stdout",
     "output_type": "stream",
     "text": [
      "\n",
      "\n",
      " 059 059_114_Fixation_Waldo_wal011 Tested\n",
      "\n",
      "\n",
      "[FP], n_samples: 1, dur: 3.18\n",
      "ETDATA----------------------------- 500.0000000000551\n"
     ]
    },
    {
     "name": "stderr",
     "output_type": "stream",
     "text": [
      "\r",
      " 95%|█████████▌| 114/120 [11:46<00:36,  6.13s/it]"
     ]
    },
    {
     "name": "stdout",
     "output_type": "stream",
     "text": [
      "\n",
      "\n",
      " 059 059_111_FreeViewing_Natural_nat015 Tested\n",
      "\n",
      "\n",
      "[FP], n_samples: 1, dur: 3.22\n",
      "ETDATA----------------------------- 500.0000000000551\n"
     ]
    },
    {
     "name": "stderr",
     "output_type": "stream",
     "text": [
      "\r",
      " 96%|█████████▌| 115/120 [11:52<00:30,  6.13s/it]"
     ]
    },
    {
     "name": "stdout",
     "output_type": "stream",
     "text": [
      "\n",
      "\n",
      " 059 059_110_FreeViewing_Blank_grey Tested\n",
      "\n",
      "\n",
      "[FP], n_samples: 1, dur: 3.24\n",
      "ETDATA----------------------------- 500.0000000000551\n"
     ]
    },
    {
     "name": "stderr",
     "output_type": "stream",
     "text": [
      "\r",
      " 97%|█████████▋| 116/120 [11:58<00:24,  6.12s/it]"
     ]
    },
    {
     "name": "stdout",
     "output_type": "stream",
     "text": [
      "\n",
      "\n",
      " 059 059_120_Fixation_Natural_nat015 Tested\n",
      "\n",
      "\n",
      "[FP], n_samples: 1, dur: 3.19\n",
      "ETDATA----------------------------- 500.0000000000551\n"
     ]
    },
    {
     "name": "stderr",
     "output_type": "stream",
     "text": [
      "\r",
      " 98%|█████████▊| 117/120 [12:05<00:18,  6.15s/it]"
     ]
    },
    {
     "name": "stdout",
     "output_type": "stream",
     "text": [
      "\n",
      "\n",
      " 059 059_117_Fixation_Blank_grey Tested\n",
      "\n",
      "\n",
      "[FP], n_samples: 1, dur: 3.18\n",
      "ETDATA----------------------------- 500.0000000000551\n"
     ]
    },
    {
     "name": "stderr",
     "output_type": "stream",
     "text": [
      "\r",
      " 98%|█████████▊| 118/120 [12:11<00:12,  6.12s/it]"
     ]
    },
    {
     "name": "stdout",
     "output_type": "stream",
     "text": [
      "\n",
      "\n",
      " 059 059_116_Fixation_Waldo_wal013 Tested\n",
      "\n",
      "\n",
      "[FP], n_samples: 1, dur: 3.18\n",
      "ETDATA----------------------------- 500.0000000000551\n"
     ]
    },
    {
     "name": "stderr",
     "output_type": "stream",
     "text": [
      "\r",
      " 99%|█████████▉| 119/120 [12:17<00:06,  6.10s/it]"
     ]
    },
    {
     "name": "stdout",
     "output_type": "stream",
     "text": [
      "\n",
      "\n",
      " 059 059_118_FreeViewing_Puzzle_puz011 Tested\n",
      "\n",
      "\n",
      "[FP], n_samples: 1, dur: 3.21\n",
      "ETDATA----------------------------- 500.0000000000551\n"
     ]
    },
    {
     "name": "stderr",
     "output_type": "stream",
     "text": [
      "100%|██████████| 120/120 [12:23<00:00,  6.19s/it]"
     ]
    },
    {
     "name": "stdout",
     "output_type": "stream",
     "text": [
      "\n",
      "\n",
      " 059 059_119_Fixation_Waldo_wal012 Tested\n",
      "\n",
      "\n",
      "\n",
      "\n",
      "\n",
      " --- Out of Options : -----> 0\n"
     ]
    },
    {
     "name": "stderr",
     "output_type": "stream",
     "text": [
      "\n"
     ]
    }
   ],
   "source": [
    "configuration = Config(model_dir+'/config.json')\n",
    "config=configuration.params\n",
    "\n",
    "config['split_seqs']=False\n",
    "config['augment']=False\n",
    "config['batch_size']=1\n",
    "\n",
    "cuda = True if config['cuda'] & torch.cuda.device_count() else False\n",
    "# model_name = '%s.pth.tar'%args.model_name\n",
    "\n",
    "#%% prepare model\n",
    "num_classes = len(config['events'])\n",
    "model = gazeNET(config, num_classes)\n",
    "load(model, model_dir, config, model_name)\n",
    "\n",
    "if cuda:\n",
    "    model = torch.nn.DataParallel(model).cuda()\n",
    "model.eval()\n",
    "\n",
    "#%%testing\n",
    "\n",
    "print (\"Running testing\")\n",
    "kwargs = {\n",
    "    'cuda': cuda,\n",
    "    'use_tqdm': False,\n",
    "    'eval': False,\n",
    "}\n",
    "\n",
    "out_of_options_lablled=[]\n",
    "out_of_options=0\n",
    "for subject in os.listdir(root):\n",
    "  etdata_gt = ETData()\n",
    "  etdata_pr = ETData()\n",
    "\n",
    "  FILES = []\n",
    "  for _root, _dir, _files in os.walk('%s/%s'%(root, subject)):\n",
    "      FILES.extend(['%s/%s' % (_root, _file)\n",
    "                    for _file in fnmatch.filter(_files, \"*.npy\")])\n",
    "  #test separate files\n",
    "  for fpath in tqdm(FILES[:]):\n",
    "    fdir, fname = os.path.split(os.path.splitext(fpath)[0])\n",
    "\n",
    "    #load data\n",
    "    X_test = np.load(fpath)\n",
    "    test_dataset = EMDataset(config = config, gaze_data = [X_test])\n",
    "    n_samples = len(test_dataset)\n",
    "    if n_samples<1:\n",
    "        print(fpath,\" :   No Testing performed\")\n",
    "        continue\n",
    "\n",
    "    test_loader = GazeDataLoader(test_dataset, batch_size=config['batch_size'],num_workers=num_workers,shuffle=False)\n",
    "\n",
    "    #predict\n",
    "    _gt, _pr, pr_raw = run_infer(model, n_samples, test_loader, **kwargs)\n",
    "\n",
    "    # glue back the predictions\n",
    "    _data_pr = copy.deepcopy(test_dataset.data)\n",
    "    for _d, _pred in zip(_data_pr, pr_raw):\n",
    "        _d['evt'] = 0\n",
    "        _d['evt'][1:] = np.argmax(_pred, axis=1)+1\n",
    "    _data_pr = pd.concat([pd.DataFrame(_d) for _d in _data_pr]).reset_index(drop=True)\n",
    "    _data = pd.DataFrame(X_test)\n",
    "    _data = _data.merge(_data_pr, on='t', suffixes=('', '_pred'), how='left')\n",
    "    _data['evt'] = _data['evt_pred'].replace({np.nan:0})\n",
    "\n",
    "    #save\n",
    "    etdata_pr.load(_data[['t', 'x', 'y', 'status', 'evt']].values, **{'source':'np_array'})\n",
    "    data_final=_data[['t', 'x', 'y', 'status', 'evt']]\n",
    "    dtype = np.dtype([\n",
    "        ('t', np.float64),\n",
    "        ('x', np.float32),\n",
    "        ('y', np.float32),\n",
    "        ('status', np.bool),\n",
    "        ('evt', np.uint8)\n",
    "    ])\n",
    "    pred_evt=data_final['evt'].unique()\n",
    "    for evt_val in pred_evt:\n",
    "      if(evt_val>4):\n",
    "        out_of_options=out_of_options+1\n",
    "        out_of_options_lablled.append(fpath)\n",
    "\n",
    "    file_name=fpath.split('/')[4][:-4]\n",
    "    # print(root_data+'_gazeNet'+'/CSV/'+subject+'/'+file_name+\".csv\")\n",
    "    data_final.to_csv(root_data+'_gazeNet'+'/CSV/'+subject+'/'+file_name+\".csv\",index=False)\n",
    "    numpy_data_final=[]\n",
    "    data_final_index=data_final.index\n",
    "    for i in data_final_index:\n",
    "      temp=(data_final['t'][i],data_final['x'][i],data_final['y'][i],data_final['status'][i],data_final['evt'][i])\n",
    "      numpy_data_final.append(temp)\n",
    "\n",
    "    numpy_data_final=np.array(numpy_data_final, dtype=dtype)\n",
    "    np.save(root_data+'_gazeNet'+'/NPY/'+subject+'/'+file_name+\".npy\", numpy_data_final)\n",
    "    print(\"\\n\\n\",subject,file_name,\"Tested\\n\\n\")\n",
    "\n",
    "print(\"\\n\\n\\n --- Out of Options : ----->\",out_of_options)"
   ]
  },
  {
   "cell_type": "code",
   "execution_count": null,
   "metadata": {
    "colab": {},
    "colab_type": "code",
    "id": "6j7NKW-BYsfK"
   },
   "outputs": [],
   "source": []
  }
 ],
 "metadata": {
  "accelerator": "GPU",
  "colab": {
   "collapsed_sections": [
    "cvPfmdVl_6IB",
    "bQLm_GUoXswv",
    "CaB2DIc8VgHY",
    "XJtC4sW0FwWt"
   ],
   "name": "Challenge_data_run_gazeNet.ipynb",
   "provenance": []
  },
  "kernelspec": {
   "display_name": "Python 3",
   "language": "python",
   "name": "python3"
  },
  "language_info": {
   "codemirror_mode": {
    "name": "ipython",
    "version": 3
   },
   "file_extension": ".py",
   "mimetype": "text/x-python",
   "name": "python",
   "nbconvert_exporter": "python",
   "pygments_lexer": "ipython3",
   "version": "3.5.3"
  }
 },
 "nbformat": 4,
 "nbformat_minor": 1
}
